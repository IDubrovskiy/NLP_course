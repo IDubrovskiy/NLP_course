{
 "cells": [
  {
   "cell_type": "code",
   "execution_count": 1,
   "metadata": {},
   "outputs": [
    {
     "name": "stderr",
     "output_type": "stream",
     "text": [
      "[nltk_data] Downloading package punkt to\n",
      "[nltk_data]     C:\\Users\\ID\\AppData\\Roaming\\nltk_data...\n",
      "[nltk_data]   Package punkt is already up-to-date!\n"
     ]
    },
    {
     "data": {
      "text/plain": [
       "True"
      ]
     },
     "execution_count": 1,
     "metadata": {},
     "output_type": "execute_result"
    }
   ],
   "source": [
    "import regex as re\n",
    "import requests\n",
    "import wikipediaapi\n",
    "from difflib import Differ \n",
    "import spacy\n",
    "from spacy.lang.en import English\n",
    "vocab = English()\n",
    "from nltk.tokenize import sent_tokenize, word_tokenize \n",
    "import nltk\n",
    "from nltk.stem.porter import *\n",
    "nltk.download('punkt')"
   ]
  },
  {
   "cell_type": "markdown",
   "metadata": {},
   "source": [
    "### Parse and clear"
   ]
  },
  {
   "cell_type": "code",
   "execution_count": 2,
   "metadata": {},
   "outputs": [],
   "source": [
    "def clear_html_tags(text):\n",
    "    text = re.sub(\"<a href=[^>]+>([^<]+)</a>\", r\"\\1\", text)                     # clear all references, keeping text inside\n",
    "    text = re.sub(\"<span\\s([^<]+)</span>\", r\"\\1\", text)                         # clear all containers, keeping text inside\n",
    "    text = re.sub(\"<sup\\s([^<]+)</sup>\", \"\", text)                              # clear all superscripts\n",
    "    text = re.sub(r\"<b>([^<]+)</b>\", r\"\\1\", text)                               # clear all bold tags\n",
    "    text = re.sub(r\"<i>([^<]+)</i>\", r\"\\1\", text)                               # clear all italic tags\n",
    "\n",
    "    return text                 "
   ]
  },
  {
   "cell_type": "code",
   "execution_count": 3,
   "metadata": {},
   "outputs": [],
   "source": [
    "def parse_wiki(page=\"Machine_learning\"):\n",
    "    r = requests.get(url=f\"https://en.wikipedia.org/wiki/{page}\")\n",
    "    wiki_text = r.text\n",
    "\n",
    "    paragraph = re.findall(r\"<p>(.*)\\n\", wiki_text)[:40]                        # grab first n paragraphs\n",
    "    parsed_text = \"\"\n",
    "\n",
    "    for p in paragraph:\n",
    "        parsed_text += clear_html_tags(p)\n",
    "        \n",
    "    return parsed_text"
   ]
  },
  {
   "cell_type": "code",
   "execution_count": 4,
   "metadata": {},
   "outputs": [],
   "source": [
    "parsed_text = parse_wiki()"
   ]
  },
  {
   "cell_type": "code",
   "execution_count": 5,
   "metadata": {},
   "outputs": [],
   "source": [
    "with open(\"parsed_text.txt\", \"w\") as f:\n",
    "    f.write(parsed_text)"
   ]
  },
  {
   "cell_type": "markdown",
   "metadata": {},
   "source": [
    "### Compare with wiki"
   ]
  },
  {
   "cell_type": "code",
   "execution_count": 6,
   "metadata": {},
   "outputs": [],
   "source": [
    "def find_wiki_sections(sections, text, level=0):\n",
    "    for s in sections:\n",
    "        text += \"%s\" % s.text\n",
    "        text = find_wiki_sections(s.sections, text, level + 1)\n",
    "    return text"
   ]
  },
  {
   "cell_type": "code",
   "execution_count": 7,
   "metadata": {},
   "outputs": [],
   "source": [
    "def create_wiki_text(page_name = \"Machine learning\"):\n",
    "    wiki_wiki = wikipediaapi.Wikipedia(\n",
    "    user_agent='Wiki parser',\n",
    "        language='en',\n",
    "        extract_format=wikipediaapi.ExtractFormat.WIKI\n",
    "    )\n",
    "\n",
    "    p_wiki = wiki_wiki.page(page_name)\n",
    "    text = p_wiki.summary\n",
    "\n",
    "    wiki_text = find_wiki_sections(p_wiki.sections, text)\n",
    "\n",
    "    wiki_text = re.sub(\":\\u200a([^.]+)\\u200a\", \"\", wiki_text)                      # remove references\n",
    "\n",
    "    return wiki_text"
   ]
  },
  {
   "cell_type": "code",
   "execution_count": 8,
   "metadata": {},
   "outputs": [],
   "source": [
    "def split_by_sentences(text):\n",
    "    text = re.split(r\"(?<!\\w\\.\\s\\w.)(?<=\\.|\\?|\\!)\\s\", text)                        # split sentences after '.', '?' or '!' except 'e. g.'\n",
    "    return text"
   ]
  },
  {
   "cell_type": "code",
   "execution_count": 9,
   "metadata": {},
   "outputs": [],
   "source": [
    "def compare_texts(parsed_text, real_text):\n",
    "    parsed_text = re.sub(r\"(?<=[.,])(?=[^\\s])\", r\" \", parsed_text)                 # add space after '.' or ',', except if there is one already\n",
    "    real_text = re.sub(r\"(?<=[.,])(?=[^\\s])\", r\" \", real_text)\n",
    "\n",
    "    parsed_text_sent = split_by_sentences(parsed_text)\n",
    "    parsed_text = \"\\n\".join(parsed_text_sent[:40])\n",
    "\n",
    "    real_text_sent = split_by_sentences(real_text)\n",
    "    real_text = \"\\n\".join(real_text_sent[:40])\n",
    "\n",
    "    with open(\"parsed_text.txt\", \"w\") as f:\n",
    "        f.write(parsed_text)\n",
    "    with open(\"real_text.txt\", \"w\") as f:\n",
    "        f.write(real_text)\n",
    "        \n",
    "    with open(\"parsed_text.txt\") as file_1, open(\"real_text.txt\") as file_2:\n",
    "        differ = Differ()\n",
    "        for line in differ.compare(file_1.readlines(), file_2.readlines()):\n",
    "            print(line)"
   ]
  },
  {
   "cell_type": "code",
   "execution_count": 10,
   "metadata": {},
   "outputs": [
    {
     "name": "stdout",
     "output_type": "stream",
     "text": [
      "  Machine learning (ML) is a field of study in artificial intelligence concerned with the development and study of statistical algorithms that can learn from data and generalize to unseen data, and thus perform tasks without explicit instructions.\n",
      "\n",
      "  Recently, artificial neural networks have been able to surpass many previous approaches in performance.\n",
      "\n",
      "  Machine learning approaches have been applied to many fields including natural language processing, computer vision, speech recognition, email filtering, agriculture, and medicine.\n",
      "\n",
      "  ML is known in its application across business problems under the name predictive analytics.\n",
      "\n",
      "  Although not all machine learning is statistically based, computational statistics is an important source of the field's methods.\n",
      "\n",
      "  The mathematical foundations of ML are provided by mathematical optimization (mathematical programming) methods.\n",
      "\n",
      "  Data mining is a related (parallel) field of study, focusing on exploratory data analysis (EDA) through unsupervised learning.\n",
      "\n",
      "  From a theoretical viewpoint, probably approximately correct (PAC) learning provides a framework for describing machine learning.\n",
      "\n",
      "  The term machine learning was coined in 1959 by Arthur Samuel, an IBM employee and pioneer in the field of computer gaming and artificial intelligence.\n",
      "\n",
      "  The synonym self-teaching computers was also used in this time period.\n",
      "\n",
      "  Although the earliest machine learning model was introduced in the 1950s when Arthur Samuel invented a program that calculated the winning chance in checkers for each side, the history of machine learning roots back to decades of human desire and effort to study human cognitive processes.\n",
      "\n",
      "  In 1949, Canadian psychologist Donald Hebb published the book The Organization of Behavior, in which he introduced a theoretical neural structure formed by certain interactions among nerve cells.\n",
      "\n",
      "  Hebb's model of neurons interacting with one another set a groundwork for how AIs and machine learning algorithms work under nodes, or artificial neurons used by computers to communicate data.\n",
      "\n",
      "  Other researchers who have studied human cognitive systems contributed to the modern machine learning technologies as well, including logician Walter Pitts and Warren McCulloch, who proposed the early mathematical models of neural networks to come up with algorithms that mirror human thought processes.\n",
      "\n",
      "  By the early 1960s an experimental \"learning machine\" with punched tape memory, called Cybertron, had been developed by Raytheon Company to analyze sonar signals, electrocardiograms, and speech patterns using rudimentary reinforcement learning.\n",
      "\n",
      "  It was repetitively \"trained\" by a human operator/teacher to recognize patterns and equipped with a \"goof\" button to cause it to re-evaluate incorrect decisions.\n",
      "\n",
      "  A representative book on research into machine learning during the 1960s was Nilsson's book on Learning Machines, dealing mostly with machine learning for pattern classification.\n",
      "\n",
      "  Interest related to pattern recognition continued into the 1970s, as described by Duda and Hart in 1973.\n",
      "\n",
      "  In 1981 a report was given on using teaching strategies so that an artificial neural network learns to recognize 40 characters (26 letters, 10 digits, and 4 special symbols) from a computer terminal.\n",
      "\n",
      "  Tom M.\n",
      "\n",
      "  Mitchell provided a widely quoted, more formal definition of the algorithms studied in the machine learning field: \"A computer program is said to learn from experience E with respect to some class of tasks T and performance measure P if its performance at tasks in T, as measured by P,  improves with experience E.\n",
      "\n",
      "  \" This definition of the tasks in which machine learning is concerned offers a fundamentally operational definition rather than defining the field in cognitive terms.\n",
      "\n",
      "  This follows Alan Turing's proposal in his paper \"Computing Machinery and Intelligence\", in which the question \"Can machines think?\" is replaced with the question \"Can machines do what we (as thinking entities) can do?\".\n",
      "\n",
      "  Modern-day machine learning has two objectives.\n",
      "\n",
      "   One is to classify data based on models which have been developed; the other purpose is to make predictions for future outcomes based on these models.\n",
      "\n",
      "  A hypothetical algorithm specific to classifying data may use computer vision of moles coupled with supervised learning in order to train it to classify the cancerous moles.\n",
      "\n",
      "  A machine learning algorithm for stock trading may inform the trader of future potential predictions.\n",
      "\n",
      "  As a scientific endeavor, machine learning grew out of the quest for artificial intelligence (AI).\n",
      "\n",
      "  In the early days of AI as an academic discipline, some researchers were interested in having machines learn from data.\n",
      "\n",
      "  They attempted to approach the problem with various symbolic methods, as well as what were then termed \"neural networks\"; these were mostly perceptrons and other models that were later found to be reinventions of the generalized linear models of statistics.\n",
      "\n",
      "  Probabilistic reasoning was also employed, especially in automated medical diagnosis.\n",
      "\n",
      "  However, an increasing emphasis on the logical, knowledge-based approach caused a rift between AI and machine learning.\n",
      "\n",
      "  Probabilistic systems were plagued by theoretical and practical problems of data acquisition and representation.\n",
      "\n",
      "  By 1980, expert systems had come to dominate AI, and statistics was out of favor.\n",
      "\n",
      "  Work on symbolic/knowledge-based learning did continue within AI, leading to inductive logic programming(ILP), but the more statistical line of research was now outside the field of AI proper, in pattern recognition and information retrieval.\n",
      "\n",
      "  Neural networks research had been abandoned by AI and computer science around the same time.\n",
      "\n",
      "  This line, too, was continued outside the AI/CS field, as \"connectionism\", by researchers from other disciplines including Hopfield, Rumelhart, and Hinton.\n",
      "\n",
      "  Their main success came in the mid-1980s with the reinvention of backpropagation.\n",
      "\n",
      "  Machine learning (ML), reorganized and recognized as its own field, started to flourish in the 1990s.\n",
      "\n",
      "  The field changed its goal from achieving artificial intelligence to tackling solvable problems of a practical nature.\n"
     ]
    }
   ],
   "source": [
    "compare_texts(parsed_text, create_wiki_text())"
   ]
  },
  {
   "cell_type": "markdown",
   "metadata": {},
   "source": [
    "### Splitting sentences"
   ]
  },
  {
   "cell_type": "code",
   "execution_count": 11,
   "metadata": {},
   "outputs": [],
   "source": [
    "parsed_text = re.sub(r\"(?<!\\(\\.)(?<=[.,])(?=[^\\s])\", r\" \", parsed_text)                 # add space after '.' or ',', except if there is one already"
   ]
  },
  {
   "cell_type": "code",
   "execution_count": 12,
   "metadata": {},
   "outputs": [],
   "source": [
    "nlp = spacy.load(\"en_core_web_sm\")\n",
    "doc = nlp(parsed_text)"
   ]
  },
  {
   "cell_type": "code",
   "execution_count": 13,
   "metadata": {},
   "outputs": [
    {
     "name": "stdout",
     "output_type": "stream",
     "text": [
      "123\n"
     ]
    }
   ],
   "source": [
    "sent_regex = split_by_sentences(parsed_text)\n",
    "print(len(sent_regex))"
   ]
  },
  {
   "cell_type": "code",
   "execution_count": 14,
   "metadata": {},
   "outputs": [
    {
     "name": "stdout",
     "output_type": "stream",
     "text": [
      "122\n"
     ]
    }
   ],
   "source": [
    "sent_nltk = sent_tokenize(parsed_text)\n",
    "print(len(sent_nltk))"
   ]
  },
  {
   "cell_type": "code",
   "execution_count": 15,
   "metadata": {},
   "outputs": [
    {
     "name": "stdout",
     "output_type": "stream",
     "text": [
      "121\n"
     ]
    }
   ],
   "source": [
    "sent_spacy = [str(sent) for sent in doc.sents]\n",
    "print(len(sent_spacy))"
   ]
  },
  {
   "cell_type": "markdown",
   "metadata": {},
   "source": [
    "#### Differences"
   ]
  },
  {
   "cell_type": "code",
   "execution_count": 16,
   "metadata": {},
   "outputs": [
    {
     "data": {
      "text/plain": [
       "['This follows Alan Turing\\'s proposal in his paper \"Computing Machinery and Intelligence\", in which the question \"Can machines think?\" is replaced with the question \"Can machines do what we (as thinking entities) can do?\".']"
      ]
     },
     "execution_count": 16,
     "metadata": {},
     "output_type": "execute_result"
    }
   ],
   "source": [
    "sent_spacy[21:22]"
   ]
  },
  {
   "cell_type": "code",
   "execution_count": 17,
   "metadata": {},
   "outputs": [
    {
     "data": {
      "text/plain": [
       "['This follows Alan Turing\\'s proposal in his paper \"Computing Machinery and Intelligence\", in which the question \"Can machines think?\" is replaced with the question \"Can machines do what we (as thinking entities) can do?\".']"
      ]
     },
     "execution_count": 17,
     "metadata": {},
     "output_type": "execute_result"
    }
   ],
   "source": [
    "sent_regex[22:23]"
   ]
  },
  {
   "cell_type": "code",
   "execution_count": 18,
   "metadata": {},
   "outputs": [
    {
     "data": {
      "text/plain": [
       "['This follows Alan Turing\\'s proposal in his paper \"Computing Machinery and Intelligence\", in which the question \"Can machines think?\"',\n",
       " 'is replaced with the question \"Can machines do what we (as thinking entities) can do?\".']"
      ]
     },
     "execution_count": 18,
     "metadata": {},
     "output_type": "execute_result"
    }
   ],
   "source": [
    "sent_nltk[20:22]"
   ]
  },
  {
   "cell_type": "code",
   "execution_count": 19,
   "metadata": {},
   "outputs": [
    {
     "data": {
      "text/plain": [
       "['Tom M. Mitchell provided a widely quoted, more formal definition of the algorithms studied in the machine learning field: \"A computer program is said to learn from experience E with respect to some class of tasks T and performance measure P if its performance at tasks in T, as measured by P,  improves with experience E. \" This definition of the tasks in which machine learning is concerned offers a fundamentally operational definition rather than defining the field in cognitive terms.']"
      ]
     },
     "execution_count": 19,
     "metadata": {},
     "output_type": "execute_result"
    }
   ],
   "source": [
    "sent_nltk[19:20]"
   ]
  },
  {
   "cell_type": "code",
   "execution_count": 20,
   "metadata": {},
   "outputs": [
    {
     "data": {
      "text/plain": [
       "['Tom M. Mitchell provided a widely quoted, more formal definition of the algorithms studied in the machine learning field: \"A computer program is said to learn from experience E with respect to some class of tasks T and performance measure P if its performance at tasks in T, as measured by P,  improves with experience E. \"']"
      ]
     },
     "execution_count": 20,
     "metadata": {},
     "output_type": "execute_result"
    }
   ],
   "source": [
    "sent_spacy[19:20]"
   ]
  },
  {
   "cell_type": "code",
   "execution_count": 21,
   "metadata": {},
   "outputs": [
    {
     "data": {
      "text/plain": [
       "['Tom M.',\n",
       " 'Mitchell provided a widely quoted, more formal definition of the algorithms studied in the machine learning field: \"A computer program is said to learn from experience E with respect to some class of tasks T and performance measure P if its performance at tasks in T, as measured by P,  improves with experience E.']"
      ]
     },
     "execution_count": 21,
     "metadata": {},
     "output_type": "execute_result"
    }
   ],
   "source": [
    "sent_regex[19:21]"
   ]
  },
  {
   "cell_type": "code",
   "execution_count": 22,
   "metadata": {},
   "outputs": [
    {
     "data": {
      "text/plain": [
       "'For each compressor C(.) we define an associated vector space ℵ, such that C(.) maps an input string x, corresponding to the vector norm ||~x||.'"
      ]
     },
     "execution_count": 22,
     "metadata": {},
     "output_type": "execute_result"
    }
   ],
   "source": [
    "sent_regex[46]"
   ]
  },
  {
   "cell_type": "code",
   "execution_count": 23,
   "metadata": {},
   "outputs": [
    {
     "data": {
      "text/plain": [
       "'For each compressor C(.)'"
      ]
     },
     "execution_count": 23,
     "metadata": {},
     "output_type": "execute_result"
    }
   ],
   "source": [
    "sent_nltk[45]"
   ]
  },
  {
   "cell_type": "code",
   "execution_count": 24,
   "metadata": {},
   "outputs": [
    {
     "data": {
      "text/plain": [
       "'For each compressor C(.)'"
      ]
     },
     "execution_count": 24,
     "metadata": {},
     "output_type": "execute_result"
    }
   ],
   "source": [
    "sent_spacy[45]"
   ]
  },
  {
   "cell_type": "markdown",
   "metadata": {},
   "source": [
    "### Tokenization"
   ]
  },
  {
   "cell_type": "code",
   "execution_count": 25,
   "metadata": {},
   "outputs": [],
   "source": [
    "def split_by_words(text):\n",
    "    text = re.findall(r\"([\\w]+)\", text)\n",
    "    #text = re.findall(r\"([\\w]+|\\(|\\)|\\.|,)\", text)       # also include '(', ')', ',', '.'\n",
    "    return text"
   ]
  },
  {
   "cell_type": "code",
   "execution_count": 26,
   "metadata": {},
   "outputs": [
    {
     "name": "stdout",
     "output_type": "stream",
     "text": [
      "['Machine', 'learning', 'ML', 'is', 'a', 'field', 'of', 'study', 'in', 'artificial', 'intelligence', 'concerned', 'with', 'the', 'development', 'and', 'study', 'of', 'statistical', 'algorithms', 'that', 'can', 'learn', 'from', 'data', 'and', 'generalize', 'to', 'unseen', 'data', 'and', 'thus', 'perform', 'tasks', 'without', 'explicit', 'instructions']\n",
      "37\n"
     ]
    }
   ],
   "source": [
    "word_regex = split_by_words(sent_regex[0])\n",
    "print(word_regex) \n",
    "print(len(word_regex))"
   ]
  },
  {
   "cell_type": "code",
   "execution_count": 27,
   "metadata": {},
   "outputs": [
    {
     "name": "stdout",
     "output_type": "stream",
     "text": [
      "['Machine', 'learning', '(', 'ML', ')', 'is', 'a', 'field', 'of', 'study', 'in', 'artificial', 'intelligence', 'concerned', 'with', 'the', 'development', 'and', 'study', 'of', 'statistical', 'algorithms', 'that', 'can', 'learn', 'from', 'data', 'and', 'generalize', 'to', 'unseen', 'data', ',', 'and', 'thus', 'perform', 'tasks', 'without', 'explicit', 'instructions', '.']\n",
      "41\n"
     ]
    }
   ],
   "source": [
    "word_nltk = word_tokenize(sent_nltk[0])\n",
    "print(word_nltk) \n",
    "print(len(word_nltk))"
   ]
  },
  {
   "cell_type": "code",
   "execution_count": 28,
   "metadata": {},
   "outputs": [
    {
     "name": "stdout",
     "output_type": "stream",
     "text": [
      "['Machine', 'learning', '(', 'ML', ')', 'is', 'a', 'field', 'of', 'study', 'in', 'artificial', 'intelligence', 'concerned', 'with', 'the', 'development', 'and', 'study', 'of', 'statistical', 'algorithms', 'that', 'can', 'learn', 'from', 'data', 'and', 'generalize', 'to', 'unseen', 'data', ',', 'and', 'thus', 'perform', 'tasks', 'without', 'explicit', 'instructions', '.']\n",
      "41\n"
     ]
    }
   ],
   "source": [
    "sent_spacy = [sent for sent in doc.sents]\n",
    "word_spacy = [token.text for token in sent_spacy[0]]\n",
    "print(word_spacy) \n",
    "print(len(word_spacy))"
   ]
  },
  {
   "cell_type": "markdown",
   "metadata": {},
   "source": [
    "### Text normalization with SpaCy"
   ]
  },
  {
   "cell_type": "code",
   "execution_count": 29,
   "metadata": {},
   "outputs": [
    {
     "data": {
      "text/plain": [
       "Machine learning (ML) is a field of study in artificial intelligence concerned with the development and study of statistical algorithms that can learn from data and generalize to unseen data, and thus perform tasks without explicit instructions. Recently, artificial neural networks have been able to surpass many previous approaches in performance. Machine learning approaches have been applied to many fields including natural language processing, computer vision, speech recognition, email filtering, agriculture, and medicine. ML is known in its application across business problems under the name predictive analytics. Although not all machine learning is statistically based, computational statistics is an important source of the field's methods. The mathematical foundations of ML are provided by mathematical optimization (mathematical programming) methods. Data mining is a related (parallel) field of study, focusing on exploratory data analysis (EDA) through unsupervised learning. From a theoretical viewpoint, probably approximately correct (PAC) learning provides a framework for describing machine learning. The term machine learning was coined in 1959 by Arthur Samuel, an IBM employee and pioneer in the field of computer gaming and artificial intelligence. The synonym self-teaching computers was also used in this time period. Although the earliest machine learning model was introduced in the 1950s when Arthur Samuel invented a program that calculated the winning chance in checkers for each side, the history of machine learning roots back to decades of human desire and effort to study human cognitive processes. In 1949, Canadian psychologist Donald Hebb published the book The Organization of Behavior, in which he introduced a theoretical neural structure formed by certain interactions among nerve cells. Hebb's model of neurons interacting with one another set a groundwork for how AIs and machine learning algorithms work under nodes, or artificial neurons used by computers to communicate data. Other researchers who have studied human cognitive systems contributed to the modern machine learning technologies as well, including logician Walter Pitts and Warren McCulloch, who proposed the early mathematical models of neural networks to come up with algorithms that mirror human thought processes. By the early 1960s an experimental \"learning machine\" with punched tape memory, called Cybertron, had been developed by Raytheon Company to analyze sonar signals, electrocardiograms, and speech patterns using rudimentary reinforcement learning. It was repetitively \"trained\" by a human operator/teacher to recognize patterns and equipped with a \"goof\" button to cause it to re-evaluate incorrect decisions. A representative book on research into machine learning during the 1960s was Nilsson's book on Learning Machines, dealing mostly with machine learning for pattern classification. Interest related to pattern recognition continued into the 1970s, as described by Duda and Hart in 1973. In 1981 a report was given on using teaching strategies so that an artificial neural network learns to recognize 40 characters (26 letters, 10 digits, and 4 special symbols) from a computer terminal. Tom M. Mitchell provided a widely quoted, more formal definition of the algorithms studied in the machine learning field: \"A computer program is said to learn from experience E with respect to some class of tasks T and performance measure P if its performance at tasks in T, as measured by P,  improves with experience E. \" This definition of the tasks in which machine learning is concerned offers a fundamentally operational definition rather than defining the field in cognitive terms. This follows Alan Turing's proposal in his paper \"Computing Machinery and Intelligence\", in which the question \"Can machines think?\" is replaced with the question \"Can machines do what we (as thinking entities) can do?\". Modern-day machine learning has two objectives.  One is to classify data based on models which have been developed; the other purpose is to make predictions for future outcomes based on these models. A hypothetical algorithm specific to classifying data may use computer vision of moles coupled with supervised learning in order to train it to classify the cancerous moles. A machine learning algorithm for stock trading may inform the trader of future potential predictions. As a scientific endeavor, machine learning grew out of the quest for artificial intelligence (AI). In the early days of AI as an academic discipline, some researchers were interested in having machines learn from data. They attempted to approach the problem with various symbolic methods, as well as what were then termed \"neural networks\"; these were mostly perceptrons and other models that were later found to be reinventions of the generalized linear models of statistics. Probabilistic reasoning was also employed, especially in automated medical diagnosis. However, an increasing emphasis on the logical, knowledge-based approach caused a rift between AI and machine learning. Probabilistic systems were plagued by theoretical and practical problems of data acquisition and representation. By 1980, expert systems had come to dominate AI, and statistics was out of favor. Work on symbolic/knowledge-based learning did continue within AI, leading to inductive logic programming(ILP), but the more statistical line of research was now outside the field of AI proper, in pattern recognition and information retrieval. Neural networks research had been abandoned by AI and computer science around the same time. This line, too, was continued outside the AI/CS field, as \"connectionism\", by researchers from other disciplines including Hopfield, Rumelhart, and Hinton. Their main success came in the mid-1980s with the reinvention of backpropagation. Machine learning (ML), reorganized and recognized as its own field, started to flourish in the 1990s. The field changed its goal from achieving artificial intelligence to tackling solvable problems of a practical nature. It shifted focus away from the symbolic approaches it had inherited from AI, and toward methods and models borrowed from statistics, fuzzy logic, and probability theory. There is a close connection between machine learning and compression. A system that predicts the posterior probabilities of a sequence given its entire history can be used for optimal data compression (by using arithmetic coding on the output distribution). Conversely, an optimal compressor can be used for prediction (by finding the symbol that compresses best, given the previous history). This equivalence has been used as a justification for using data compression as a benchmark for \"general intelligence\". An alternative view can show compression algorithms implicitly map strings into implicit feature space vectors, and compression-based similarity measures compute similarity within these feature spaces. For each compressor C(.) we define an associated vector space ℵ, such that C(.) maps an input string x, corresponding to the vector norm ||~x||. An exhaustive examination of the feature spaces underlying all compression algorithms is precluded by space; instead, feature vectors chooses to examine three representative lossless compression methods, LZW, LZ77, and PPM. According to AIXI theory, a connection more directly explained in Hutter Prize, the best possible compression of x is the smallest possible software that generates x. For example, in that model, a zip file's compressed size includes both the zip file and the unzipping software, since you can not unzip it without both, but there may be an even smaller combined form. Examples of AI-powered audio/video compression software include VP9, NVIDIA Maxine, AIVC, AccMPEG. Examples of software that can perform AI-powered image compression include OpenCV, TensorFlow, MATLAB's Image Processing Toolbox (IPT) and High-Fidelity Generative Image Compression. In unsupervised machine learning, k-means clustering can be utilized to compress data by grouping similar data points into clusters. This technique simplifies handling extensive datasets that lack predefined labels and finds widespread use in fields such as image compression. Data compression aims to reduce the size of data files, enhancing storage efficiency and speeding up data transmission. K-means clustering, an unsupervised machine learning algorithm, is employed to partition a dataset into a specified number of clusters, k, each represented by the centroid of its points. This process condenses extensive datasets into a more compact set of representative points. Particularly beneficial in image and signal processing, k-means clustering aids in data reduction by replacing groups of data points with their centroids, thereby preserving the core information of the original data while significantly decreasing the required storage space. Machine learning and data mining often employ the same methods and overlap significantly, but while machine learning focuses on prediction, based on known properties learned from the training data, data mining focuses on the discovery of (previously) unknown properties in the data (this is the analysis step of knowledge discovery in databases). Data mining uses many machine learning methods, but with different goals; on the other hand, machine learning also employs data mining methods as \"unsupervised learning\" or as a preprocessing step to improve learner accuracy. Much of the confusion between these two research communities (which do often have separate conferences and separate journals, ECML PKDD being a major exception) comes from the basic assumptions they work with: in machine learning, performance is usually evaluated with respect to the ability to reproduce known knowledge, while in knowledge discovery and data mining (KDD) the key task is the discovery of previously unknown knowledge. Evaluated with respect to known knowledge, an uninformed (unsupervised) method will easily be outperformed by other supervised methods, while in a typical KDD task, supervised methods cannot be used due to the unavailability of training data. Machine learning also has intimate ties to optimization: many learning problems are formulated as minimization of some loss function on a training set of examples. Loss functions express the discrepancy between the predictions of the model being trained and the actual problem instances (for example, in classification, one wants to assign a label to instances, and models are trained to correctly predict the pre-assigned labels of a set of examples). The difference between optimization and machine learning arises from the goal of generalization: while optimization algorithms can minimize the loss on a training set, machine learning is concerned with minimizing the loss on unseen samples. Characterizing the generalization of various learning algorithms is an active topic of current research, especially for deep learning algorithms. Machine learning and statistics are closely related fields in terms of methods, but distinct in their principal goal: statistics draws population inferences from a sample, while machine learning finds generalizable predictive patterns. According to Michael I. Jordan, the ideas of machine learning, from methodological principles to theoretical tools, have had a long pre-history in statistics. He also suggested the term data science as a placeholder to call the overall field. Conventional statistical analyses require the a priori selection of a model most suitable for the study data set. In addition, only significant or theoretically relevant variables based on previous experience are included for analysis. In contrast, machine learning is not built on a pre-structured model; rather, the data shape the model by detecting underlying patterns. The more variables (input) used to train the model, the more accurate the ultimate model will be. Leo Breiman distinguished two statistical modeling paradigms: data model and algorithmic model, wherein \"algorithmic model\" means more or less the machine learning algorithms like Random Forest. Some statisticians have adopted methods from machine learning, leading to a combined field that they call statistical learning. Analytical and computational techniques derived from deep-rooted physics of disordered systems can be extended to large-scale problems, including machine learning, e. g. , to analyze the weight space of deep neural networks. Statistical physics is thus finding applications in the area of medical diagnostics. A core objective of a learner is to generalize from its experience. Generalization in this context is the ability of a learning machine to perform accurately on new, unseen examples/tasks after having experienced a learning data set. The training examples come from some generally unknown probability distribution (considered representative of the space of occurrences) and the learner has to build a general model about this space that enables it to produce sufficiently accurate predictions in new cases. The computational analysis of machine learning algorithms and their performance is a branch of theoretical computer science known as computational learning theory via the Probably Approximately Correct Learning (PAC) model. Because training sets are finite and the future is uncertain, learning theory usually does not yield guarantees of the performance of algorithms. Instead, probabilistic bounds on the performance are quite common. The bias–variance decomposition is one way to quantify generalization error. For the best performance in the context of generalization, the complexity of the hypothesis should match the complexity of the function underlying the data. If the hypothesis is less complex than the function, then the model has under fitted the data. If the complexity of the model is increased in response, then the training error decreases. But if the hypothesis is too complex, then the model is subject to overfitting and generalization will be poorer. In addition to performance bounds, learning theorists study the time complexity and feasibility of learning. In computational learning theory, a computation is considered feasible if it can be done in polynomial time. There are two kinds of time complexity results: Positive results show that a certain class of functions can be learned in polynomial time. Negative results show that certain classes cannot be learned in polynomial time. class=\"anchor\" id=\"Algorithm_types\">Although each algorithm has advantages and limitations, no single algorithm works for all problems. Supervised learning algorithms build a mathematical model of a set of data that contains both the inputs and the desired outputs. The data is known as training data, and consists of a set of training examples. Each training example has one or more inputs and the desired output, also known as a supervisory signal.  In the mathematical model, each training example is represented by an array or vector, sometimes called a feature vector, and the training data is represented by a matrix. Through iterative optimization of an objective function, supervised learning algorithms learn a function that can be used to predict the output associated with new inputs. An optimal function allows the algorithm to correctly determine the output for inputs that were not a part of the training data. An algorithm that improves the accuracy of its outputs or predictions over time is said to have learned to perform that task. Types of supervised-learning algorithms include active learning, classification and regression. Classification algorithms are used when the outputs are restricted to a limited set of values, and regression algorithms are used when the outputs may have any numerical value within a range. As an example, for a classification algorithm that filters emails, the input would be an incoming email, and the output would be the name of the folder in which to file the email. Similarity learning is an area of supervised machine learning closely related to regression and classification, but the goal is to learn from examples using a similarity function that measures how similar or related two objects are. It has applications in ranking, recommendation systems, visual identity tracking, face verification, and speaker verification. Unsupervised learning algorithms find structures in data that has not been labeled, classified or categorized. Instead of responding to feedback, unsupervised learning algorithms identify commonalities in the data and react based on the presence or absence of such commonalities in each new piece of data. Central applications of unsupervised machine learning include clustering, dimensionality reduction, and density estimation. Unsupervised learning algorithms also streamlined the process of identifying large indel based haplotypes of a gene of interest from pan-genome.  Cluster analysis is the assignment of a set of observations into subsets (called clusters) so that observations within the same cluster are similar according to one or more predesignated criteria, while observations drawn from different clusters are dissimilar. Different clustering techniques make different assumptions on the structure of the data, often defined by some similarity metric and evaluated, for example, by internal compactness, or the similarity between members of the same cluster, and separation, the difference between clusters. Other methods are based on estimated density and graph connectivity. Semi-supervised learning falls between unsupervised learning (without any labeled training data) and supervised learning (with completely labeled training data). Some of the training examples are missing training labels, yet many machine-learning researchers have found that unlabeled data, when used in conjunction with a small amount of labeled data, can produce a considerable improvement in learning accuracy. In weakly supervised learning, the training labels are noisy, limited, or imprecise; however, these labels are often cheaper to obtain, resulting in larger effective training sets. Reinforcement learning is an area of machine learning concerned with how software agents ought to take actions in an environment so as to maximize some notion of cumulative reward. Due to its generality, the field is studied in many other disciplines, such as game theory, control theory, operations research, information theory, simulation-based optimization, multi-agent systems, swarm intelligence, statistics and genetic algorithms. In reinforcement learning, the environment is typically represented as a Markov decision process (MDP). Many reinforcements learning algorithms use dynamic programming techniques. Reinforcement learning algorithms do not assume knowledge of an exact mathematical model of the MDP and are used when exact models are infeasible. Reinforcement learning algorithms are used in autonomous vehicles or in learning to play a game against a human opponent."
      ]
     },
     "execution_count": 29,
     "metadata": {},
     "output_type": "execute_result"
    }
   ],
   "source": [
    "doc"
   ]
  },
  {
   "cell_type": "code",
   "execution_count": 30,
   "metadata": {},
   "outputs": [
    {
     "name": "stdout",
     "output_type": "stream",
     "text": [
      "[Machine, learning, (, ML, ), is, a, field, of, study, in, artificial, intelligence, concerned, with, the, development, and, study, of, statistical, algorithms, that, can, learn, from, data, and, generalize, to, unseen, data, ,, and, thus, perform, tasks, without, explicit, instructions, ., Recently, ,, artificial, neural, networks, have, been, able, to, surpass, many, previous, approaches, in, performance, ., Machine, learning, approaches, have, been, applied, to, many, fields, including, natural, language, processing, ,, computer, vision, ,, speech, recognition, ,, email, filtering, ,, agriculture, ,, and, medicine, ., ML, is, known, in, its, application, across, business, problems, under, the, name, predictive, analytics, ., Although, not, all, machine, learning, is, statistically, based, ,, computational, statistics, is, an, important, source, of, the, field, 's, methods, ., The, mathematical, foundations, of, ML, are, provided, by, mathematical, optimization, (, mathematical, programming, ), methods, ., Data, mining, is, a, related, (, parallel, ), field, of, study, ,, focusing, on, exploratory, data, analysis, (, EDA, ), through, unsupervised, learning, ., From, a, theoretical, viewpoint, ,, probably, approximately, correct, (, PAC, ), learning, provides, a, framework, for, describing, machine, learning, ., The, term, machine, learning, was, coined, in, 1959, by, Arthur, Samuel, ,, an, IBM, employee, and, pioneer, in, the, field, of, computer, gaming, and, artificial, intelligence, ., The, synonym, self, -, teaching, computers, was, also, used, in, this, time, period, ., Although, the, earliest, machine, learning, model, was, introduced, in, the, 1950s, when, Arthur, Samuel, invented, a, program, that, calculated, the, winning, chance, in, checkers, for, each, side, ,, the, history, of, machine, learning, roots, back, to, decades, of, human, desire, and, effort, to, study, human, cognitive, processes, ., In, 1949, ,, Canadian, psychologist, Donald, Hebb, published, the, book, The, Organization, of, Behavior, ,, in, which, he, introduced, a, theoretical, neural, structure, formed, by, certain, interactions, among, nerve, cells, ., Hebb, 's, model, of, neurons, interacting, with, one, another, set, a, groundwork, for, how, AIs, and, machine, learning, algorithms, work, under, nodes, ,, or, artificial, neurons, used, by, computers, to, communicate, data, ., Other, researchers, who, have, studied, human, cognitive, systems, contributed, to, the, modern, machine, learning, technologies, as, well, ,, including, logician, Walter, Pitts, and, Warren, McCulloch, ,, who, proposed, the, early, mathematical, models, of, neural, networks, to, come, up, with, algorithms, that, mirror, human, thought, processes, ., By, the, early, 1960s, an, experimental, \", learning, machine, \", with, punched, tape, memory, ,, called, Cybertron, ,, had, been, developed, by, Raytheon, Company, to, analyze, sonar, signals, ,, electrocardiograms, ,, and, speech, patterns, using, rudimentary, reinforcement, learning, ., It, was, repetitively, \", trained, \", by, a, human, operator, /, teacher, to, recognize, patterns, and, equipped, with, a, \", goof, \", button, to, cause, it, to, re, -, evaluate, incorrect, decisions, ., A, representative, book, on, research, into, machine, learning, during, the, 1960s, was, Nilsson, 's, book, on, Learning, Machines, ,, dealing, mostly, with, machine, learning, for, pattern, classification, ., Interest, related, to, pattern, recognition, continued, into, the, 1970s, ,, as, described, by, Duda, and, Hart, in, 1973, ., In, 1981, a, report, was, given, on, using, teaching, strategies, so, that, an, artificial, neural, network, learns, to, recognize, 40, characters, (, 26, letters, ,, 10, digits, ,, and, 4, special, symbols, ), from, a, computer, terminal, ., Tom, M., Mitchell, provided, a, widely, quoted, ,, more, formal, definition, of, the, algorithms, studied, in, the, machine, learning, field, :, \", A, computer, program, is, said, to, learn, from, experience, E, with, respect, to, some, class, of, tasks, T, and, performance, measure, P, if, its, performance, at, tasks, in, T, ,, as, measured, by, P, ,,  , improves, with, experience, E., \", This, definition, of, the, tasks, in, which, machine, learning, is, concerned, offers, a, fundamentally, operational, definition, rather, than, defining, the, field, in, cognitive, terms, ., This, follows, Alan, Turing, 's, proposal, in, his, paper, \", Computing, Machinery, and, Intelligence, \", ,, in, which, the, question, \", Can, machines, think, ?, \", is, replaced, with, the, question, \", Can, machines, do, what, we, (, as, thinking, entities, ), can, do, ?, \", ., Modern, -, day, machine, learning, has, two, objectives, .,  , One, is, to, classify, data, based, on, models, which, have, been, developed, ;, the, other, purpose, is, to, make, predictions, for, future, outcomes, based, on, these, models, ., A, hypothetical, algorithm, specific, to, classifying, data, may, use, computer, vision, of, moles, coupled, with, supervised, learning, in, order, to, train, it, to, classify, the, cancerous, moles, ., A, machine, learning, algorithm, for, stock, trading, may, inform, the, trader, of, future, potential, predictions, ., As, a, scientific, endeavor, ,, machine, learning, grew, out, of, the, quest, for, artificial, intelligence, (, AI, ), ., In, the, early, days, of, AI, as, an, academic, discipline, ,, some, researchers, were, interested, in, having, machines, learn, from, data, ., They, attempted, to, approach, the, problem, with, various, symbolic, methods, ,, as, well, as, what, were, then, termed, \", neural, networks, \", ;, these, were, mostly, perceptrons, and, other, models, that, were, later, found, to, be, reinventions, of, the, generalized, linear, models, of, statistics, ., Probabilistic, reasoning, was, also, employed, ,, especially, in, automated, medical, diagnosis, ., However, ,, an, increasing, emphasis, on, the, logical, ,, knowledge, -, based, approach, caused, a, rift, between, AI, and, machine, learning, ., Probabilistic, systems, were, plagued, by, theoretical, and, practical, problems, of, data, acquisition, and, representation, ., By, 1980, ,, expert, systems, had, come, to, dominate, AI, ,, and, statistics, was, out, of, favor, ., Work, on, symbolic, /, knowledge, -, based, learning, did, continue, within, AI, ,, leading, to, inductive, logic, programming(ILP, ), ,, but, the, more, statistical, line, of, research, was, now, outside, the, field, of, AI, proper, ,, in, pattern, recognition, and, information, retrieval, ., Neural, networks, research, had, been, abandoned, by, AI, and, computer, science, around, the, same, time, ., This, line, ,, too, ,, was, continued, outside, the, AI, /, CS, field, ,, as, \", connectionism, \", ,, by, researchers, from, other, disciplines, including, Hopfield, ,, Rumelhart, ,, and, Hinton, ., Their, main, success, came, in, the, mid-1980s, with, the, reinvention, of, backpropagation, ., Machine, learning, (, ML, ), ,, reorganized, and, recognized, as, its, own, field, ,, started, to, flourish, in, the, 1990s, ., The, field, changed, its, goal, from, achieving, artificial, intelligence, to, tackling, solvable, problems, of, a, practical, nature, ., It, shifted, focus, away, from, the, symbolic, approaches, it, had, inherited, from, AI, ,, and, toward, methods, and, models, borrowed, from, statistics, ,, fuzzy, logic, ,, and, probability, theory, ., There, is, a, close, connection, between, machine, learning, and, compression, ., A, system, that, predicts, the, posterior, probabilities, of, a, sequence, given, its, entire, history, can, be, used, for, optimal, data, compression, (, by, using, arithmetic, coding, on, the, output, distribution, ), ., Conversely, ,, an, optimal, compressor, can, be, used, for, prediction, (, by, finding, the, symbol, that, compresses, best, ,, given, the, previous, history, ), ., This, equivalence, has, been, used, as, a, justification, for, using, data, compression, as, a, benchmark, for, \", general, intelligence, \", ., An, alternative, view, can, show, compression, algorithms, implicitly, map, strings, into, implicit, feature, space, vectors, ,, and, compression, -, based, similarity, measures, compute, similarity, within, these, feature, spaces, ., For, each, compressor, C, (, ., ), we, define, an, associated, vector, space, ℵ, ,, such, that, C, (, ., ), maps, an, input, string, x, ,, corresponding, to, the, vector, norm, ||~x||, ., An, exhaustive, examination, of, the, feature, spaces, underlying, all, compression, algorithms, is, precluded, by, space, ;, instead, ,, feature, vectors, chooses, to, examine, three, representative, lossless, compression, methods, ,, LZW, ,, LZ77, ,, and, PPM, ., According, to, AIXI, theory, ,, a, connection, more, directly, explained, in, Hutter, Prize, ,, the, best, possible, compression, of, x, is, the, smallest, possible, software, that, generates, x., For, example, ,, in, that, model, ,, a, zip, file, 's, compressed, size, includes, both, the, zip, file, and, the, unzipping, software, ,, since, you, can, not, unzip, it, without, both, ,, but, there, may, be, an, even, smaller, combined, form, ., Examples, of, AI, -, powered, audio, /, video, compression, software, include, VP9, ,, NVIDIA, Maxine, ,, AIVC, ,, AccMPEG, ., Examples, of, software, that, can, perform, AI, -, powered, image, compression, include, OpenCV, ,, TensorFlow, ,, MATLAB, 's, Image, Processing, Toolbox, (, IPT, ), and, High, -, Fidelity, Generative, Image, Compression, ., In, unsupervised, machine, learning, ,, k, -, means, clustering, can, be, utilized, to, compress, data, by, grouping, similar, data, points, into, clusters, ., This, technique, simplifies, handling, extensive, datasets, that, lack, predefined, labels, and, finds, widespread, use, in, fields, such, as, image, compression, ., Data, compression, aims, to, reduce, the, size, of, data, files, ,, enhancing, storage, efficiency, and, speeding, up, data, transmission, ., K, -, means, clustering, ,, an, unsupervised, machine, learning, algorithm, ,, is, employed, to, partition, a, dataset, into, a, specified, number, of, clusters, ,, k, ,, each, represented, by, the, centroid, of, its, points, ., This, process, condenses, extensive, datasets, into, a, more, compact, set, of, representative, points, ., Particularly, beneficial, in, image, and, signal, processing, ,, k, -, means, clustering, aids, in, data, reduction, by, replacing, groups, of, data, points, with, their, centroids, ,, thereby, preserving, the, core, information, of, the, original, data, while, significantly, decreasing, the, required, storage, space, ., Machine, learning, and, data, mining, often, employ, the, same, methods, and, overlap, significantly, ,, but, while, machine, learning, focuses, on, prediction, ,, based, on, known, properties, learned, from, the, training, data, ,, data, mining, focuses, on, the, discovery, of, (, previously, ), unknown, properties, in, the, data, (, this, is, the, analysis, step, of, knowledge, discovery, in, databases, ), ., Data, mining, uses, many, machine, learning, methods, ,, but, with, different, goals, ;, on, the, other, hand, ,, machine, learning, also, employs, data, mining, methods, as, \", unsupervised, learning, \", or, as, a, preprocessing, step, to, improve, learner, accuracy, ., Much, of, the, confusion, between, these, two, research, communities, (, which, do, often, have, separate, conferences, and, separate, journals, ,, ECML, PKDD, being, a, major, exception, ), comes, from, the, basic, assumptions, they, work, with, :, in, machine, learning, ,, performance, is, usually, evaluated, with, respect, to, the, ability, to, reproduce, known, knowledge, ,, while, in, knowledge, discovery, and, data, mining, (, KDD, ), the, key, task, is, the, discovery, of, previously, unknown, knowledge, ., Evaluated, with, respect, to, known, knowledge, ,, an, uninformed, (, unsupervised, ), method, will, easily, be, outperformed, by, other, supervised, methods, ,, while, in, a, typical, KDD, task, ,, supervised, methods, can, not, be, used, due, to, the, unavailability, of, training, data, ., Machine, learning, also, has, intimate, ties, to, optimization, :, many, learning, problems, are, formulated, as, minimization, of, some, loss, function, on, a, training, set, of, examples, ., Loss, functions, express, the, discrepancy, between, the, predictions, of, the, model, being, trained, and, the, actual, problem, instances, (, for, example, ,, in, classification, ,, one, wants, to, assign, a, label, to, instances, ,, and, models, are, trained, to, correctly, predict, the, pre, -, assigned, labels, of, a, set, of, examples, ), ., The, difference, between, optimization, and, machine, learning, arises, from, the, goal, of, generalization, :, while, optimization, algorithms, can, minimize, the, loss, on, a, training, set, ,, machine, learning, is, concerned, with, minimizing, the, loss, on, unseen, samples, ., Characterizing, the, generalization, of, various, learning, algorithms, is, an, active, topic, of, current, research, ,, especially, for, deep, learning, algorithms, ., Machine, learning, and, statistics, are, closely, related, fields, in, terms, of, methods, ,, but, distinct, in, their, principal, goal, :, statistics, draws, population, inferences, from, a, sample, ,, while, machine, learning, finds, generalizable, predictive, patterns, ., According, to, Michael, I., Jordan, ,, the, ideas, of, machine, learning, ,, from, methodological, principles, to, theoretical, tools, ,, have, had, a, long, pre, -, history, in, statistics, ., He, also, suggested, the, term, data, science, as, a, placeholder, to, call, the, overall, field, ., Conventional, statistical, analyses, require, the, a, priori, selection, of, a, model, most, suitable, for, the, study, data, set, ., In, addition, ,, only, significant, or, theoretically, relevant, variables, based, on, previous, experience, are, included, for, analysis, ., In, contrast, ,, machine, learning, is, not, built, on, a, pre, -, structured, model, ;, rather, ,, the, data, shape, the, model, by, detecting, underlying, patterns, ., The, more, variables, (, input, ), used, to, train, the, model, ,, the, more, accurate, the, ultimate, model, will, be, ., Leo, Breiman, distinguished, two, statistical, modeling, paradigms, :, data, model, and, algorithmic, model, ,, wherein, \", algorithmic, model, \", means, more, or, less, the, machine, learning, algorithms, like, Random, Forest, ., Some, statisticians, have, adopted, methods, from, machine, learning, ,, leading, to, a, combined, field, that, they, call, statistical, learning, ., Analytical, and, computational, techniques, derived, from, deep, -, rooted, physics, of, disordered, systems, can, be, extended, to, large, -, scale, problems, ,, including, machine, learning, ,, e., g., ,, to, analyze, the, weight, space, of, deep, neural, networks, ., Statistical, physics, is, thus, finding, applications, in, the, area, of, medical, diagnostics, ., A, core, objective, of, a, learner, is, to, generalize, from, its, experience, ., Generalization, in, this, context, is, the, ability, of, a, learning, machine, to, perform, accurately, on, new, ,, unseen, examples, /, tasks, after, having, experienced, a, learning, data, set, ., The, training, examples, come, from, some, generally, unknown, probability, distribution, (, considered, representative, of, the, space, of, occurrences, ), and, the, learner, has, to, build, a, general, model, about, this, space, that, enables, it, to, produce, sufficiently, accurate, predictions, in, new, cases, ., The, computational, analysis, of, machine, learning, algorithms, and, their, performance, is, a, branch, of, theoretical, computer, science, known, as, computational, learning, theory, via, the, Probably, Approximately, Correct, Learning, (, PAC, ), model, ., Because, training, sets, are, finite, and, the, future, is, uncertain, ,, learning, theory, usually, does, not, yield, guarantees, of, the, performance, of, algorithms, ., Instead, ,, probabilistic, bounds, on, the, performance, are, quite, common, ., The, bias, –, variance, decomposition, is, one, way, to, quantify, generalization, error, ., For, the, best, performance, in, the, context, of, generalization, ,, the, complexity, of, the, hypothesis, should, match, the, complexity, of, the, function, underlying, the, data, ., If, the, hypothesis, is, less, complex, than, the, function, ,, then, the, model, has, under, fitted, the, data, ., If, the, complexity, of, the, model, is, increased, in, response, ,, then, the, training, error, decreases, ., But, if, the, hypothesis, is, too, complex, ,, then, the, model, is, subject, to, overfitting, and, generalization, will, be, poorer, ., In, addition, to, performance, bounds, ,, learning, theorists, study, the, time, complexity, and, feasibility, of, learning, ., In, computational, learning, theory, ,, a, computation, is, considered, feasible, if, it, can, be, done, in, polynomial, time, ., There, are, two, kinds, of, time, complexity, results, :, Positive, results, show, that, a, certain, class, of, functions, can, be, learned, in, polynomial, time, ., Negative, results, show, that, certain, classes, can, not, be, learned, in, polynomial, time, ., class=\"anchor, \", id=\"Algorithm_types\">Although, each, algorithm, has, advantages, and, limitations, ,, no, single, algorithm, works, for, all, problems, ., Supervised, learning, algorithms, build, a, mathematical, model, of, a, set, of, data, that, contains, both, the, inputs, and, the, desired, outputs, ., The, data, is, known, as, training, data, ,, and, consists, of, a, set, of, training, examples, ., Each, training, example, has, one, or, more, inputs, and, the, desired, output, ,, also, known, as, a, supervisory, signal, .,  , In, the, mathematical, model, ,, each, training, example, is, represented, by, an, array, or, vector, ,, sometimes, called, a, feature, vector, ,, and, the, training, data, is, represented, by, a, matrix, ., Through, iterative, optimization, of, an, objective, function, ,, supervised, learning, algorithms, learn, a, function, that, can, be, used, to, predict, the, output, associated, with, new, inputs, ., An, optimal, function, allows, the, algorithm, to, correctly, determine, the, output, for, inputs, that, were, not, a, part, of, the, training, data, ., An, algorithm, that, improves, the, accuracy, of, its, outputs, or, predictions, over, time, is, said, to, have, learned, to, perform, that, task, ., Types, of, supervised, -, learning, algorithms, include, active, learning, ,, classification, and, regression, ., Classification, algorithms, are, used, when, the, outputs, are, restricted, to, a, limited, set, of, values, ,, and, regression, algorithms, are, used, when, the, outputs, may, have, any, numerical, value, within, a, range, ., As, an, example, ,, for, a, classification, algorithm, that, filters, emails, ,, the, input, would, be, an, incoming, email, ,, and, the, output, would, be, the, name, of, the, folder, in, which, to, file, the, email, ., Similarity, learning, is, an, area, of, supervised, machine, learning, closely, related, to, regression, and, classification, ,, but, the, goal, is, to, learn, from, examples, using, a, similarity, function, that, measures, how, similar, or, related, two, objects, are, ., It, has, applications, in, ranking, ,, recommendation, systems, ,, visual, identity, tracking, ,, face, verification, ,, and, speaker, verification, ., Unsupervised, learning, algorithms, find, structures, in, data, that, has, not, been, labeled, ,, classified, or, categorized, ., Instead, of, responding, to, feedback, ,, unsupervised, learning, algorithms, identify, commonalities, in, the, data, and, react, based, on, the, presence, or, absence, of, such, commonalities, in, each, new, piece, of, data, ., Central, applications, of, unsupervised, machine, learning, include, clustering, ,, dimensionality, reduction, ,, and, density, estimation, ., Unsupervised, learning, algorithms, also, streamlined, the, process, of, identifying, large, indel, based, haplotypes, of, a, gene, of, interest, from, pan, -, genome, .,  , Cluster, analysis, is, the, assignment, of, a, set, of, observations, into, subsets, (, called, clusters, ), so, that, observations, within, the, same, cluster, are, similar, according, to, one, or, more, predesignated, criteria, ,, while, observations, drawn, from, different, clusters, are, dissimilar, ., Different, clustering, techniques, make, different, assumptions, on, the, structure, of, the, data, ,, often, defined, by, some, similarity, metric, and, evaluated, ,, for, example, ,, by, internal, compactness, ,, or, the, similarity, between, members, of, the, same, cluster, ,, and, separation, ,, the, difference, between, clusters, ., Other, methods, are, based, on, estimated, density, and, graph, connectivity, ., Semi, -, supervised, learning, falls, between, unsupervised, learning, (, without, any, labeled, training, data, ), and, supervised, learning, (, with, completely, labeled, training, data, ), ., Some, of, the, training, examples, are, missing, training, labels, ,, yet, many, machine, -, learning, researchers, have, found, that, unlabeled, data, ,, when, used, in, conjunction, with, a, small, amount, of, labeled, data, ,, can, produce, a, considerable, improvement, in, learning, accuracy, ., In, weakly, supervised, learning, ,, the, training, labels, are, noisy, ,, limited, ,, or, imprecise, ;, however, ,, these, labels, are, often, cheaper, to, obtain, ,, resulting, in, larger, effective, training, sets, ., Reinforcement, learning, is, an, area, of, machine, learning, concerned, with, how, software, agents, ought, to, take, actions, in, an, environment, so, as, to, maximize, some, notion, of, cumulative, reward, ., Due, to, its, generality, ,, the, field, is, studied, in, many, other, disciplines, ,, such, as, game, theory, ,, control, theory, ,, operations, research, ,, information, theory, ,, simulation, -, based, optimization, ,, multi, -, agent, systems, ,, swarm, intelligence, ,, statistics, and, genetic, algorithms, ., In, reinforcement, learning, ,, the, environment, is, typically, represented, as, a, Markov, decision, process, (, MDP, ), ., Many, reinforcements, learning, algorithms, use, dynamic, programming, techniques, ., Reinforcement, learning, algorithms, do, not, assume, knowledge, of, an, exact, mathematical, model, of, the, MDP, and, are, used, when, exact, models, are, infeasible, ., Reinforcement, learning, algorithms, are, used, in, autonomous, vehicles, or, in, learning, to, play, a, game, against, a, human, opponent, .]\n"
     ]
    }
   ],
   "source": [
    "print(list(doc))                                    # tokenized text"
   ]
  },
  {
   "cell_type": "code",
   "execution_count": 31,
   "metadata": {},
   "outputs": [
    {
     "name": "stdout",
     "output_type": "stream",
     "text": [
      "['machine', 'learning', '(', 'ML', ')', 'be', 'a', 'field', 'of', 'study', 'in', 'artificial', 'intelligence', 'concern', 'with', 'the', 'development', 'and', 'study', 'of', 'statistical', 'algorithm', 'that', 'can', 'learn', 'from', 'datum', 'and', 'generalize', 'to', 'unseen', 'datum', ',', 'and', 'thus', 'perform', 'task', 'without', 'explicit', 'instruction', '.', 'recently', ',', 'artificial', 'neural', 'network', 'have', 'be', 'able', 'to', 'surpass', 'many', 'previous', 'approach', 'in', 'performance', '.', 'machine', 'learning', 'approach', 'have', 'be', 'apply', 'to', 'many', 'field', 'include', 'natural', 'language', 'processing', ',', 'computer', 'vision', ',', 'speech', 'recognition', ',', 'email', 'filtering', ',', 'agriculture', ',', 'and', 'medicine', '.', 'ML', 'be', 'know', 'in', 'its', 'application', 'across', 'business', 'problem', 'under', 'the', 'name', 'predictive', 'analytic', '.', 'although', 'not', 'all', 'machine', 'learning', 'be', 'statistically', 'base', ',', 'computational', 'statistic', 'be', 'an', 'important', 'source', 'of', 'the', 'field', \"'s\", 'method', '.', 'the', 'mathematical', 'foundation', 'of', 'ML', 'be', 'provide', 'by', 'mathematical', 'optimization', '(', 'mathematical', 'programming', ')', 'method', '.', 'datum', 'mining', 'be', 'a', 'relate', '(', 'parallel', ')', 'field', 'of', 'study', ',', 'focus', 'on', 'exploratory', 'datum', 'analysis', '(', 'EDA', ')', 'through', 'unsupervised', 'learning', '.', 'from', 'a', 'theoretical', 'viewpoint', ',', 'probably', 'approximately', 'correct', '(', 'PAC', ')', 'learning', 'provide', 'a', 'framework', 'for', 'describe', 'machine', 'learning', '.', 'the', 'term', 'machine', 'learning', 'be', 'coin', 'in', '1959', 'by', 'Arthur', 'Samuel', ',', 'an', 'IBM', 'employee', 'and', 'pioneer', 'in', 'the', 'field', 'of', 'computer', 'gaming', 'and', 'artificial', 'intelligence', '.', 'the', 'synonym', 'self', '-', 'teach', 'computer', 'be', 'also', 'use', 'in', 'this', 'time', 'period', '.', 'although', 'the', 'early', 'machine', 'learning', 'model', 'be', 'introduce', 'in', 'the', '1950', 'when', 'Arthur', 'Samuel', 'invent', 'a', 'program', 'that', 'calculate', 'the', 'win', 'chance', 'in', 'checker', 'for', 'each', 'side', ',', 'the', 'history', 'of', 'machine', 'learn', 'root', 'back', 'to', 'decade', 'of', 'human', 'desire', 'and', 'effort', 'to', 'study', 'human', 'cognitive', 'process', '.', 'in', '1949', ',', 'canadian', 'psychologist', 'Donald', 'Hebb', 'publish', 'the', 'book', 'the', 'Organization', 'of', 'Behavior', ',', 'in', 'which', 'he', 'introduce', 'a', 'theoretical', 'neural', 'structure', 'form', 'by', 'certain', 'interaction', 'among', 'nerve', 'cell', '.', 'Hebb', \"'s\", 'model', 'of', 'neuron', 'interact', 'with', 'one', 'another', 'set', 'a', 'groundwork', 'for', 'how', 'ai', 'and', 'machine', 'learn', 'algorithm', 'work', 'under', 'nodes', ',', 'or', 'artificial', 'neuron', 'use', 'by', 'computer', 'to', 'communicate', 'datum', '.', 'other', 'researcher', 'who', 'have', 'study', 'human', 'cognitive', 'system', 'contribute', 'to', 'the', 'modern', 'machine', 'learn', 'technology', 'as', 'well', ',', 'include', 'logician', 'Walter', 'Pitts', 'and', 'Warren', 'McCulloch', ',', 'who', 'propose', 'the', 'early', 'mathematical', 'model', 'of', 'neural', 'network', 'to', 'come', 'up', 'with', 'algorithm', 'that', 'mirror', 'human', 'thought', 'process', '.', 'by', 'the', 'early', '1960', 'an', 'experimental', '\"', 'learning', 'machine', '\"', 'with', 'punch', 'tape', 'memory', ',', 'call', 'Cybertron', ',', 'have', 'be', 'develop', 'by', 'Raytheon', 'Company', 'to', 'analyze', 'sonar', 'signal', ',', 'electrocardiogram', ',', 'and', 'speech', 'pattern', 'use', 'rudimentary', 'reinforcement', 'learning', '.', 'it', 'be', 'repetitively', '\"', 'train', '\"', 'by', 'a', 'human', 'operator', '/', 'teacher', 'to', 'recognize', 'pattern', 'and', 'equip', 'with', 'a', '\"', 'goof', '\"', 'button', 'to', 'cause', 'it', 'to', 're', '-', 'evaluate', 'incorrect', 'decision', '.', 'a', 'representative', 'book', 'on', 'research', 'into', 'machine', 'learning', 'during', 'the', '1960', 'be', 'Nilsson', \"'s\", 'book', 'on', 'Learning', 'Machines', ',', 'deal', 'mostly', 'with', 'machine', 'learn', 'for', 'pattern', 'classification', '.', 'interest', 'relate', 'to', 'pattern', 'recognition', 'continue', 'into', 'the', '1970', ',', 'as', 'describe', 'by', 'Duda', 'and', 'Hart', 'in', '1973', '.', 'in', '1981', 'a', 'report', 'be', 'give', 'on', 'use', 'teaching', 'strategy', 'so', 'that', 'an', 'artificial', 'neural', 'network', 'learn', 'to', 'recognize', '40', 'character', '(', '26', 'letter', ',', '10', 'digit', ',', 'and', '4', 'special', 'symbol', ')', 'from', 'a', 'computer', 'terminal', '.', 'Tom', 'M.', 'Mitchell', 'provide', 'a', 'widely', 'quote', ',', 'more', 'formal', 'definition', 'of', 'the', 'algorithm', 'study', 'in', 'the', 'machine', 'learn', 'field', ':', '\"', 'a', 'computer', 'program', 'be', 'say', 'to', 'learn', 'from', 'experience', 'e', 'with', 'respect', 'to', 'some', 'class', 'of', 'task', 'T', 'and', 'performance', 'measure', 'p', 'if', 'its', 'performance', 'at', 'task', 'in', 'T', ',', 'as', 'measure', 'by', 'P', ',', ' ', 'improve', 'with', 'experience', 'E.', '\"', 'this', 'definition', 'of', 'the', 'task', 'in', 'which', 'machine', 'learning', 'be', 'concern', 'offer', 'a', 'fundamentally', 'operational', 'definition', 'rather', 'than', 'define', 'the', 'field', 'in', 'cognitive', 'term', '.', 'this', 'follow', 'Alan', 'Turing', \"'s\", 'proposal', 'in', 'his', 'paper', '\"', 'Computing', 'Machinery', 'and', 'Intelligence', '\"', ',', 'in', 'which', 'the', 'question', '\"', 'can', 'machine', 'think', '?', '\"', 'be', 'replace', 'with', 'the', 'question', '\"', 'can', 'machine', 'do', 'what', 'we', '(', 'as', 'think', 'entity', ')', 'can', 'do', '?', '\"', '.', 'modern', '-', 'day', 'machine', 'learning', 'have', 'two', 'objective', '.', ' ', 'one', 'be', 'to', 'classify', 'datum', 'base', 'on', 'model', 'which', 'have', 'be', 'develop', ';', 'the', 'other', 'purpose', 'be', 'to', 'make', 'prediction', 'for', 'future', 'outcome', 'base', 'on', 'these', 'model', '.', 'a', 'hypothetical', 'algorithm', 'specific', 'to', 'classify', 'datum', 'may', 'use', 'computer', 'vision', 'of', 'mole', 'couple', 'with', 'supervised', 'learning', 'in', 'order', 'to', 'train', 'it', 'to', 'classify', 'the', 'cancerous', 'mole', '.', 'a', 'machine', 'learn', 'algorithm', 'for', 'stock', 'trading', 'may', 'inform', 'the', 'trader', 'of', 'future', 'potential', 'prediction', '.', 'as', 'a', 'scientific', 'endeavor', ',', 'machine', 'learning', 'grow', 'out', 'of', 'the', 'quest', 'for', 'artificial', 'intelligence', '(', 'AI', ')', '.', 'in', 'the', 'early', 'day', 'of', 'AI', 'as', 'an', 'academic', 'discipline', ',', 'some', 'researcher', 'be', 'interested', 'in', 'have', 'machine', 'learn', 'from', 'datum', '.', 'they', 'attempt', 'to', 'approach', 'the', 'problem', 'with', 'various', 'symbolic', 'method', ',', 'as', 'well', 'as', 'what', 'be', 'then', 'term', '\"', 'neural', 'network', '\"', ';', 'these', 'be', 'mostly', 'perceptron', 'and', 'other', 'model', 'that', 'be', 'later', 'find', 'to', 'be', 'reinvention', 'of', 'the', 'generalized', 'linear', 'model', 'of', 'statistic', '.', 'probabilistic', 'reasoning', 'be', 'also', 'employ', ',', 'especially', 'in', 'automate', 'medical', 'diagnosis', '.', 'however', ',', 'an', 'increase', 'emphasis', 'on', 'the', 'logical', ',', 'knowledge', '-', 'base', 'approach', 'cause', 'a', 'rift', 'between', 'AI', 'and', 'machine', 'learning', '.', 'probabilistic', 'system', 'be', 'plague', 'by', 'theoretical', 'and', 'practical', 'problem', 'of', 'datum', 'acquisition', 'and', 'representation', '.', 'by', '1980', ',', 'expert', 'system', 'have', 'come', 'to', 'dominate', 'AI', ',', 'and', 'statistic', 'be', 'out', 'of', 'favor', '.', 'work', 'on', 'symbolic', '/', 'knowledge', '-', 'base', 'learning', 'do', 'continue', 'within', 'AI', ',', 'lead', 'to', 'inductive', 'logic', 'programming(ilp', ')', ',', 'but', 'the', 'more', 'statistical', 'line', 'of', 'research', 'be', 'now', 'outside', 'the', 'field', 'of', 'AI', 'proper', ',', 'in', 'pattern', 'recognition', 'and', 'information', 'retrieval', '.', 'neural', 'network', 'research', 'have', 'be', 'abandon', 'by', 'AI', 'and', 'computer', 'science', 'around', 'the', 'same', 'time', '.', 'this', 'line', ',', 'too', ',', 'be', 'continue', 'outside', 'the', 'AI', '/', 'CS', 'field', ',', 'as', '\"', 'connectionism', '\"', ',', 'by', 'researcher', 'from', 'other', 'discipline', 'include', 'Hopfield', ',', 'Rumelhart', ',', 'and', 'Hinton', '.', 'their', 'main', 'success', 'come', 'in', 'the', 'mid-1980', 'with', 'the', 'reinvention', 'of', 'backpropagation', '.', 'machine', 'learning', '(', 'ML', ')', ',', 'reorganize', 'and', 'recognize', 'as', 'its', 'own', 'field', ',', 'start', 'to', 'flourish', 'in', 'the', '1990', '.', 'the', 'field', 'change', 'its', 'goal', 'from', 'achieve', 'artificial', 'intelligence', 'to', 'tackle', 'solvable', 'problem', 'of', 'a', 'practical', 'nature', '.', 'it', 'shift', 'focus', 'away', 'from', 'the', 'symbolic', 'approach', 'it', 'have', 'inherit', 'from', 'AI', ',', 'and', 'toward', 'method', 'and', 'model', 'borrow', 'from', 'statistic', ',', 'fuzzy', 'logic', ',', 'and', 'probability', 'theory', '.', 'there', 'be', 'a', 'close', 'connection', 'between', 'machine', 'learning', 'and', 'compression', '.', 'a', 'system', 'that', 'predict', 'the', 'posterior', 'probability', 'of', 'a', 'sequence', 'give', 'its', 'entire', 'history', 'can', 'be', 'use', 'for', 'optimal', 'datum', 'compression', '(', 'by', 'use', 'arithmetic', 'coding', 'on', 'the', 'output', 'distribution', ')', '.', 'conversely', ',', 'an', 'optimal', 'compressor', 'can', 'be', 'use', 'for', 'prediction', '(', 'by', 'find', 'the', 'symbol', 'that', 'compress', 'well', ',', 'give', 'the', 'previous', 'history', ')', '.', 'this', 'equivalence', 'have', 'be', 'use', 'as', 'a', 'justification', 'for', 'use', 'data', 'compression', 'as', 'a', 'benchmark', 'for', '\"', 'general', 'intelligence', '\"', '.', 'an', 'alternative', 'view', 'can', 'show', 'compression', 'algorithm', 'implicitly', 'map', 'string', 'into', 'implicit', 'feature', 'space', 'vector', ',', 'and', 'compression', '-', 'base', 'similarity', 'measure', 'compute', 'similarity', 'within', 'these', 'feature', 'space', '.', 'for', 'each', 'compressor', 'C', '(', '.', ')', 'we', 'define', 'an', 'associated', 'vector', 'space', 'ℵ', ',', 'such', 'that', 'C', '(', '.', ')', 'map', 'an', 'input', 'string', 'x', ',', 'correspond', 'to', 'the', 'vector', 'norm', '||~x||', '.', 'an', 'exhaustive', 'examination', 'of', 'the', 'feature', 'space', 'underlie', 'all', 'compression', 'algorithm', 'be', 'preclude', 'by', 'space', ';', 'instead', ',', 'feature', 'vector', 'choose', 'to', 'examine', 'three', 'representative', 'lossless', 'compression', 'method', ',', 'LZW', ',', 'LZ77', ',', 'and', 'PPM', '.', 'accord', 'to', 'AIXI', 'theory', ',', 'a', 'connection', 'more', 'directly', 'explain', 'in', 'Hutter', 'Prize', ',', 'the', 'well', 'possible', 'compression', 'of', 'x', 'be', 'the', 'small', 'possible', 'software', 'that', 'generate', 'x.', 'for', 'example', ',', 'in', 'that', 'model', ',', 'a', 'zip', 'file', \"'s\", 'compress', 'size', 'include', 'both', 'the', 'zip', 'file', 'and', 'the', 'unzipping', 'software', ',', 'since', 'you', 'can', 'not', 'unzip', 'it', 'without', 'both', ',', 'but', 'there', 'may', 'be', 'an', 'even', 'small', 'combined', 'form', '.', 'example', 'of', 'AI', '-', 'power', 'audio', '/', 'video', 'compression', 'software', 'include', 'VP9', ',', 'NVIDIA', 'Maxine', ',', 'AIVC', ',', 'AccMPEG', '.', 'example', 'of', 'software', 'that', 'can', 'perform', 'AI', '-', 'power', 'image', 'compression', 'include', 'OpenCV', ',', 'TensorFlow', ',', 'MATLAB', \"'s\", 'Image', 'Processing', 'Toolbox', '(', 'IPT', ')', 'and', 'High', '-', 'Fidelity', 'Generative', 'Image', 'Compression', '.', 'in', 'unsupervised', 'machine', 'learning', ',', 'k', '-', 'mean', 'clustering', 'can', 'be', 'utilize', 'to', 'compress', 'datum', 'by', 'group', 'similar', 'datum', 'point', 'into', 'cluster', '.', 'this', 'technique', 'simplifie', 'handle', 'extensive', 'dataset', 'that', 'lack', 'predefine', 'label', 'and', 'find', 'widespread', 'use', 'in', 'field', 'such', 'as', 'image', 'compression', '.', 'datum', 'compression', 'aim', 'to', 'reduce', 'the', 'size', 'of', 'datum', 'file', ',', 'enhance', 'storage', 'efficiency', 'and', 'speed', 'up', 'datum', 'transmission', '.', 'k', '-', 'mean', 'clustering', ',', 'an', 'unsupervised', 'machine', 'learning', 'algorithm', ',', 'be', 'employ', 'to', 'partition', 'a', 'dataset', 'into', 'a', 'specified', 'number', 'of', 'cluster', ',', 'k', ',', 'each', 'represent', 'by', 'the', 'centroid', 'of', 'its', 'point', '.', 'this', 'process', 'condense', 'extensive', 'dataset', 'into', 'a', 'more', 'compact', 'set', 'of', 'representative', 'point', '.', 'particularly', 'beneficial', 'in', 'image', 'and', 'signal', 'processing', ',', 'k', '-', 'mean', 'cluster', 'aid', 'in', 'datum', 'reduction', 'by', 'replace', 'group', 'of', 'datum', 'point', 'with', 'their', 'centroid', ',', 'thereby', 'preserve', 'the', 'core', 'information', 'of', 'the', 'original', 'datum', 'while', 'significantly', 'decrease', 'the', 'require', 'storage', 'space', '.', 'machine', 'learning', 'and', 'datum', 'mining', 'often', 'employ', 'the', 'same', 'method', 'and', 'overlap', 'significantly', ',', 'but', 'while', 'machine', 'learning', 'focus', 'on', 'prediction', ',', 'base', 'on', 'know', 'property', 'learn', 'from', 'the', 'training', 'datum', ',', 'datum', 'mining', 'focus', 'on', 'the', 'discovery', 'of', '(', 'previously', ')', 'unknown', 'property', 'in', 'the', 'datum', '(', 'this', 'be', 'the', 'analysis', 'step', 'of', 'knowledge', 'discovery', 'in', 'database', ')', '.', 'datum', 'mining', 'use', 'many', 'machine', 'learning', 'method', ',', 'but', 'with', 'different', 'goal', ';', 'on', 'the', 'other', 'hand', ',', 'machine', 'learning', 'also', 'employ', 'datum', 'mining', 'method', 'as', '\"', 'unsupervised', 'learning', '\"', 'or', 'as', 'a', 'preprocessing', 'step', 'to', 'improve', 'learner', 'accuracy', '.', 'much', 'of', 'the', 'confusion', 'between', 'these', 'two', 'research', 'community', '(', 'which', 'do', 'often', 'have', 'separate', 'conference', 'and', 'separate', 'journal', ',', 'ECML', 'PKDD', 'be', 'a', 'major', 'exception', ')', 'come', 'from', 'the', 'basic', 'assumption', 'they', 'work', 'with', ':', 'in', 'machine', 'learning', ',', 'performance', 'be', 'usually', 'evaluate', 'with', 'respect', 'to', 'the', 'ability', 'to', 'reproduce', 'known', 'knowledge', ',', 'while', 'in', 'knowledge', 'discovery', 'and', 'datum', 'mining', '(', 'KDD', ')', 'the', 'key', 'task', 'be', 'the', 'discovery', 'of', 'previously', 'unknown', 'knowledge', '.', 'evaluate', 'with', 'respect', 'to', 'know', 'knowledge', ',', 'an', 'uninformed', '(', 'unsupervised', ')', 'method', 'will', 'easily', 'be', 'outperform', 'by', 'other', 'supervised', 'method', ',', 'while', 'in', 'a', 'typical', 'KDD', 'task', ',', 'supervised', 'method', 'can', 'not', 'be', 'use', 'due', 'to', 'the', 'unavailability', 'of', 'training', 'datum', '.', 'machine', 'learning', 'also', 'have', 'intimate', 'tie', 'to', 'optimization', ':', 'many', 'learn', 'problem', 'be', 'formulate', 'as', 'minimization', 'of', 'some', 'loss', 'function', 'on', 'a', 'training', 'set', 'of', 'example', '.', 'loss', 'function', 'express', 'the', 'discrepancy', 'between', 'the', 'prediction', 'of', 'the', 'model', 'be', 'train', 'and', 'the', 'actual', 'problem', 'instance', '(', 'for', 'example', ',', 'in', 'classification', ',', 'one', 'want', 'to', 'assign', 'a', 'label', 'to', 'instance', ',', 'and', 'model', 'be', 'train', 'to', 'correctly', 'predict', 'the', 'pre', '-', 'assign', 'label', 'of', 'a', 'set', 'of', 'example', ')', '.', 'the', 'difference', 'between', 'optimization', 'and', 'machine', 'learning', 'arise', 'from', 'the', 'goal', 'of', 'generalization', ':', 'while', 'optimization', 'algorithm', 'can', 'minimize', 'the', 'loss', 'on', 'a', 'training', 'set', ',', 'machine', 'learning', 'be', 'concern', 'with', 'minimize', 'the', 'loss', 'on', 'unseen', 'sample', '.', 'characterize', 'the', 'generalization', 'of', 'various', 'learning', 'algorithm', 'be', 'an', 'active', 'topic', 'of', 'current', 'research', ',', 'especially', 'for', 'deep', 'learning', 'algorithm', '.', 'machine', 'learning', 'and', 'statistic', 'be', 'closely', 'relate', 'field', 'in', 'term', 'of', 'method', ',', 'but', 'distinct', 'in', 'their', 'principal', 'goal', ':', 'statistic', 'draw', 'population', 'inference', 'from', 'a', 'sample', ',', 'while', 'machine', 'learning', 'find', 'generalizable', 'predictive', 'pattern', '.', 'accord', 'to', 'Michael', 'I.', 'Jordan', ',', 'the', 'idea', 'of', 'machine', 'learning', ',', 'from', 'methodological', 'principle', 'to', 'theoretical', 'tool', ',', 'have', 'have', 'a', 'long', 'pre', '-', 'history', 'in', 'statistic', '.', 'he', 'also', 'suggest', 'the', 'term', 'datum', 'science', 'as', 'a', 'placeholder', 'to', 'call', 'the', 'overall', 'field', '.', 'conventional', 'statistical', 'analysis', 'require', 'the', 'a', 'priori', 'selection', 'of', 'a', 'model', 'most', 'suitable', 'for', 'the', 'study', 'datum', 'set', '.', 'in', 'addition', ',', 'only', 'significant', 'or', 'theoretically', 'relevant', 'variable', 'base', 'on', 'previous', 'experience', 'be', 'include', 'for', 'analysis', '.', 'in', 'contrast', ',', 'machine', 'learning', 'be', 'not', 'build', 'on', 'a', 'pre', '-', 'structured', 'model', ';', 'rather', ',', 'the', 'datum', 'shape', 'the', 'model', 'by', 'detect', 'underlying', 'pattern', '.', 'the', 'more', 'variable', '(', 'input', ')', 'use', 'to', 'train', 'the', 'model', ',', 'the', 'more', 'accurate', 'the', 'ultimate', 'model', 'will', 'be', '.', 'Leo', 'Breiman', 'distinguish', 'two', 'statistical', 'modeling', 'paradigm', ':', 'datum', 'model', 'and', 'algorithmic', 'model', ',', 'wherein', '\"', 'algorithmic', 'model', '\"', 'mean', 'more', 'or', 'less', 'the', 'machine', 'learn', 'algorithm', 'like', 'Random', 'Forest', '.', 'some', 'statistician', 'have', 'adopt', 'method', 'from', 'machine', 'learning', ',', 'lead', 'to', 'a', 'combined', 'field', 'that', 'they', 'call', 'statistical', 'learning', '.', 'analytical', 'and', 'computational', 'technique', 'derive', 'from', 'deep', '-', 'root', 'physics', 'of', 'disorder', 'system', 'can', 'be', 'extend', 'to', 'large', '-', 'scale', 'problem', ',', 'include', 'machine', 'learning', ',', 'e.', 'g.', ',', 'to', 'analyze', 'the', 'weight', 'space', 'of', 'deep', 'neural', 'network', '.', 'statistical', 'physics', 'be', 'thus', 'find', 'application', 'in', 'the', 'area', 'of', 'medical', 'diagnostic', '.', 'a', 'core', 'objective', 'of', 'a', 'learner', 'be', 'to', 'generalize', 'from', 'its', 'experience', '.', 'generalization', 'in', 'this', 'context', 'be', 'the', 'ability', 'of', 'a', 'learn', 'machine', 'to', 'perform', 'accurately', 'on', 'new', ',', 'unseen', 'example', '/', 'task', 'after', 'having', 'experience', 'a', 'learn', 'datum', 'set', '.', 'the', 'training', 'example', 'come', 'from', 'some', 'generally', 'unknown', 'probability', 'distribution', '(', 'consider', 'representative', 'of', 'the', 'space', 'of', 'occurrence', ')', 'and', 'the', 'learner', 'have', 'to', 'build', 'a', 'general', 'model', 'about', 'this', 'space', 'that', 'enable', 'it', 'to', 'produce', 'sufficiently', 'accurate', 'prediction', 'in', 'new', 'case', '.', 'the', 'computational', 'analysis', 'of', 'machine', 'learn', 'algorithm', 'and', 'their', 'performance', 'be', 'a', 'branch', 'of', 'theoretical', 'computer', 'science', 'know', 'as', 'computational', 'learning', 'theory', 'via', 'the', 'probably', 'approximately', 'Correct', 'Learning', '(', 'PAC', ')', 'model', '.', 'because', 'training', 'set', 'be', 'finite', 'and', 'the', 'future', 'be', 'uncertain', ',', 'learn', 'theory', 'usually', 'do', 'not', 'yield', 'guarantee', 'of', 'the', 'performance', 'of', 'algorithm', '.', 'instead', ',', 'probabilistic', 'bound', 'on', 'the', 'performance', 'be', 'quite', 'common', '.', 'the', 'bias', '–', 'variance', 'decomposition', 'be', 'one', 'way', 'to', 'quantify', 'generalization', 'error', '.', 'for', 'the', 'good', 'performance', 'in', 'the', 'context', 'of', 'generalization', ',', 'the', 'complexity', 'of', 'the', 'hypothesis', 'should', 'match', 'the', 'complexity', 'of', 'the', 'function', 'underlie', 'the', 'datum', '.', 'if', 'the', 'hypothesis', 'be', 'less', 'complex', 'than', 'the', 'function', ',', 'then', 'the', 'model', 'have', 'under', 'fit', 'the', 'datum', '.', 'if', 'the', 'complexity', 'of', 'the', 'model', 'be', 'increase', 'in', 'response', ',', 'then', 'the', 'training', 'error', 'decrease', '.', 'but', 'if', 'the', 'hypothesis', 'be', 'too', 'complex', ',', 'then', 'the', 'model', 'be', 'subject', 'to', 'overfitting', 'and', 'generalization', 'will', 'be', 'poor', '.', 'in', 'addition', 'to', 'performance', 'bound', ',', 'learn', 'theorist', 'study', 'the', 'time', 'complexity', 'and', 'feasibility', 'of', 'learn', '.', 'in', 'computational', 'learning', 'theory', ',', 'a', 'computation', 'be', 'consider', 'feasible', 'if', 'it', 'can', 'be', 'do', 'in', 'polynomial', 'time', '.', 'there', 'be', 'two', 'kind', 'of', 'time', 'complexity', 'result', ':', 'positive', 'result', 'show', 'that', 'a', 'certain', 'class', 'of', 'function', 'can', 'be', 'learn', 'in', 'polynomial', 'time', '.', 'negative', 'result', 'show', 'that', 'certain', 'class', 'can', 'not', 'be', 'learn', 'in', 'polynomial', 'time', '.', 'class=\"anchor', '\"', 'id=\"algorithm_types\">although', 'each', 'algorithm', 'have', 'advantage', 'and', 'limitation', ',', 'no', 'single', 'algorithm', 'work', 'for', 'all', 'problem', '.', 'supervised', 'learn', 'algorithm', 'build', 'a', 'mathematical', 'model', 'of', 'a', 'set', 'of', 'datum', 'that', 'contain', 'both', 'the', 'input', 'and', 'the', 'desire', 'output', '.', 'the', 'datum', 'be', 'know', 'as', 'training', 'datum', ',', 'and', 'consist', 'of', 'a', 'set', 'of', 'training', 'example', '.', 'each', 'training', 'example', 'have', 'one', 'or', 'more', 'input', 'and', 'the', 'desire', 'output', ',', 'also', 'know', 'as', 'a', 'supervisory', 'signal', '.', ' ', 'in', 'the', 'mathematical', 'model', ',', 'each', 'training', 'example', 'be', 'represent', 'by', 'an', 'array', 'or', 'vector', ',', 'sometimes', 'call', 'a', 'feature', 'vector', ',', 'and', 'the', 'training', 'datum', 'be', 'represent', 'by', 'a', 'matrix', '.', 'through', 'iterative', 'optimization', 'of', 'an', 'objective', 'function', ',', 'supervise', 'learn', 'algorithm', 'learn', 'a', 'function', 'that', 'can', 'be', 'use', 'to', 'predict', 'the', 'output', 'associate', 'with', 'new', 'input', '.', 'an', 'optimal', 'function', 'allow', 'the', 'algorithm', 'to', 'correctly', 'determine', 'the', 'output', 'for', 'input', 'that', 'be', 'not', 'a', 'part', 'of', 'the', 'training', 'datum', '.', 'an', 'algorithm', 'that', 'improve', 'the', 'accuracy', 'of', 'its', 'output', 'or', 'prediction', 'over', 'time', 'be', 'say', 'to', 'have', 'learn', 'to', 'perform', 'that', 'task', '.', 'type', 'of', 'supervised', '-', 'learn', 'algorithm', 'include', 'active', 'learning', ',', 'classification', 'and', 'regression', '.', 'classification', 'algorithm', 'be', 'use', 'when', 'the', 'output', 'be', 'restrict', 'to', 'a', 'limited', 'set', 'of', 'value', ',', 'and', 'regression', 'algorithm', 'be', 'use', 'when', 'the', 'output', 'may', 'have', 'any', 'numerical', 'value', 'within', 'a', 'range', '.', 'as', 'an', 'example', ',', 'for', 'a', 'classification', 'algorithm', 'that', 'filter', 'email', ',', 'the', 'input', 'would', 'be', 'an', 'incoming', 'email', ',', 'and', 'the', 'output', 'would', 'be', 'the', 'name', 'of', 'the', 'folder', 'in', 'which', 'to', 'file', 'the', 'email', '.', 'similarity', 'learning', 'be', 'an', 'area', 'of', 'supervised', 'machine', 'learn', 'closely', 'relate', 'to', 'regression', 'and', 'classification', ',', 'but', 'the', 'goal', 'be', 'to', 'learn', 'from', 'example', 'use', 'a', 'similarity', 'function', 'that', 'measure', 'how', 'similar', 'or', 'related', 'two', 'object', 'be', '.', 'it', 'have', 'application', 'in', 'ranking', ',', 'recommendation', 'system', ',', 'visual', 'identity', 'tracking', ',', 'face', 'verification', ',', 'and', 'speaker', 'verification', '.', 'unsupervised', 'learning', 'algorithm', 'find', 'structure', 'in', 'datum', 'that', 'have', 'not', 'be', 'label', ',', 'classify', 'or', 'categorize', '.', 'instead', 'of', 'respond', 'to', 'feedback', ',', 'unsupervised', 'learning', 'algorithm', 'identify', 'commonality', 'in', 'the', 'datum', 'and', 'react', 'base', 'on', 'the', 'presence', 'or', 'absence', 'of', 'such', 'commonality', 'in', 'each', 'new', 'piece', 'of', 'datum', '.', 'central', 'application', 'of', 'unsupervised', 'machine', 'learning', 'include', 'cluster', ',', 'dimensionality', 'reduction', ',', 'and', 'density', 'estimation', '.', 'unsupervised', 'learning', 'algorithm', 'also', 'streamline', 'the', 'process', 'of', 'identify', 'large', 'indel', 'base', 'haplotype', 'of', 'a', 'gene', 'of', 'interest', 'from', 'pan', '-', 'genome', '.', ' ', 'Cluster', 'analysis', 'be', 'the', 'assignment', 'of', 'a', 'set', 'of', 'observation', 'into', 'subset', '(', 'call', 'cluster', ')', 'so', 'that', 'observation', 'within', 'the', 'same', 'cluster', 'be', 'similar', 'accord', 'to', 'one', 'or', 'more', 'predesignate', 'criterion', ',', 'while', 'observation', 'draw', 'from', 'different', 'cluster', 'be', 'dissimilar', '.', 'different', 'clustering', 'technique', 'make', 'different', 'assumption', 'on', 'the', 'structure', 'of', 'the', 'datum', ',', 'often', 'define', 'by', 'some', 'similarity', 'metric', 'and', 'evaluate', ',', 'for', 'example', ',', 'by', 'internal', 'compactness', ',', 'or', 'the', 'similarity', 'between', 'member', 'of', 'the', 'same', 'cluster', ',', 'and', 'separation', ',', 'the', 'difference', 'between', 'cluster', '.', 'other', 'method', 'be', 'base', 'on', 'estimate', 'density', 'and', 'graph', 'connectivity', '.', 'semi', '-', 'supervised', 'learning', 'fall', 'between', 'unsupervised', 'learning', '(', 'without', 'any', 'label', 'training', 'datum', ')', 'and', 'supervise', 'learning', '(', 'with', 'completely', 'label', 'training', 'datum', ')', '.', 'some', 'of', 'the', 'training', 'example', 'be', 'miss', 'training', 'label', ',', 'yet', 'many', 'machine', '-', 'learn', 'researcher', 'have', 'find', 'that', 'unlabeled', 'datum', ',', 'when', 'use', 'in', 'conjunction', 'with', 'a', 'small', 'amount', 'of', 'label', 'datum', ',', 'can', 'produce', 'a', 'considerable', 'improvement', 'in', 'learn', 'accuracy', '.', 'in', 'weakly', 'supervised', 'learning', ',', 'the', 'training', 'label', 'be', 'noisy', ',', 'limited', ',', 'or', 'imprecise', ';', 'however', ',', 'these', 'label', 'be', 'often', 'cheap', 'to', 'obtain', ',', 'result', 'in', 'large', 'effective', 'training', 'set', '.', 'reinforcement', 'learning', 'be', 'an', 'area', 'of', 'machine', 'learning', 'concern', 'with', 'how', 'software', 'agent', 'ought', 'to', 'take', 'action', 'in', 'an', 'environment', 'so', 'as', 'to', 'maximize', 'some', 'notion', 'of', 'cumulative', 'reward', '.', 'due', 'to', 'its', 'generality', ',', 'the', 'field', 'be', 'study', 'in', 'many', 'other', 'discipline', ',', 'such', 'as', 'game', 'theory', ',', 'control', 'theory', ',', 'operation', 'research', ',', 'information', 'theory', ',', 'simulation', '-', 'base', 'optimization', ',', 'multi', '-', 'agent', 'system', ',', 'swarm', 'intelligence', ',', 'statistic', 'and', 'genetic', 'algorithm', '.', 'in', 'reinforcement', 'learning', ',', 'the', 'environment', 'be', 'typically', 'represent', 'as', 'a', 'Markov', 'decision', 'process', '(', 'MDP', ')', '.', 'many', 'reinforcement', 'learn', 'algorithm', 'use', 'dynamic', 'programming', 'technique', '.', 'reinforcement', 'learn', 'algorithm', 'do', 'not', 'assume', 'knowledge', 'of', 'an', 'exact', 'mathematical', 'model', 'of', 'the', 'MDP', 'and', 'be', 'use', 'when', 'exact', 'model', 'be', 'infeasible', '.', 'reinforcement', 'learning', 'algorithm', 'be', 'use', 'in', 'autonomous', 'vehicle', 'or', 'in', 'learn', 'to', 'play', 'a', 'game', 'against', 'a', 'human', 'opponent', '.']\n"
     ]
    }
   ],
   "source": [
    "lemmas = []\n",
    "for token in doc:\n",
    "    lemmas.append(token.lemma_)\n",
    "print(lemmas)                                       # lemmatized text"
   ]
  },
  {
   "cell_type": "code",
   "execution_count": 32,
   "metadata": {},
   "outputs": [
    {
     "name": "stdout",
     "output_type": "stream",
     "text": [
      "['machine', 'learning', '(', 'ML', ')', 'field', 'study', 'artificial', 'intelligence', 'concern', 'development', 'study', 'statistical', 'algorithm', 'learn', 'datum', 'generalize', 'unseen', 'datum', ',', 'perform', 'task', 'explicit', 'instruction', '.', 'recently', ',', 'artificial', 'neural', 'network', 'able', 'surpass', 'previous', 'approach', 'performance', '.', 'machine', 'learning', 'approach', 'apply', 'field', 'include', 'natural', 'language', 'processing', ',', 'computer', 'vision', ',', 'speech', 'recognition', ',', 'email', 'filtering', ',', 'agriculture', ',', 'medicine', '.', 'ML', 'know', 'application', 'business', 'problem', 'predictive', 'analytic', '.', 'machine', 'learning', 'statistically', 'base', ',', 'computational', 'statistic', 'important', 'source', 'field', 'method', '.', 'mathematical', 'foundation', 'ML', 'provide', 'mathematical', 'optimization', '(', 'mathematical', 'programming', ')', 'method', '.', 'datum', 'mining', 'relate', '(', 'parallel', ')', 'field', 'study', ',', 'focus', 'exploratory', 'datum', 'analysis', '(', 'EDA', ')', 'unsupervised', 'learning', '.', 'theoretical', 'viewpoint', ',', 'probably', 'approximately', 'correct', '(', 'PAC', ')', 'learning', 'provide', 'framework', 'describe', 'machine', 'learning', '.', 'term', 'machine', 'learning', 'coin', '1959', 'Arthur', 'Samuel', ',', 'IBM', 'employee', 'pioneer', 'field', 'computer', 'gaming', 'artificial', 'intelligence', '.', 'synonym', 'self', '-', 'teach', 'computer', 'use', 'time', 'period', '.', 'early', 'machine', 'learning', 'model', 'introduce', '1950', 'Arthur', 'Samuel', 'invent', 'program', 'calculate', 'win', 'chance', 'checker', ',', 'history', 'machine', 'learn', 'root', 'decade', 'human', 'desire', 'effort', 'study', 'human', 'cognitive', 'process', '.', '1949', ',', 'canadian', 'psychologist', 'Donald', 'Hebb', 'publish', 'book', 'Organization', 'Behavior', ',', 'introduce', 'theoretical', 'neural', 'structure', 'form', 'certain', 'interaction', 'nerve', 'cell', '.', 'Hebb', 'model', 'neuron', 'interact', 'set', 'groundwork', 'ai', 'machine', 'learn', 'algorithm', 'work', 'nodes', ',', 'artificial', 'neuron', 'use', 'computer', 'communicate', 'datum', '.', 'researcher', 'study', 'human', 'cognitive', 'system', 'contribute', 'modern', 'machine', 'learn', 'technology', ',', 'include', 'logician', 'Walter', 'Pitts', 'Warren', 'McCulloch', ',', 'propose', 'early', 'mathematical', 'model', 'neural', 'network', 'come', 'algorithm', 'mirror', 'human', 'thought', 'process', '.', 'early', '1960', 'experimental', '\"', 'learning', 'machine', '\"', 'punch', 'tape', 'memory', ',', 'Cybertron', ',', 'develop', 'Raytheon', 'Company', 'analyze', 'sonar', 'signal', ',', 'electrocardiogram', ',', 'speech', 'pattern', 'use', 'rudimentary', 'reinforcement', 'learning', '.', 'repetitively', '\"', 'train', '\"', 'human', 'operator', '/', 'teacher', 'recognize', 'pattern', 'equip', '\"', 'goof', '\"', 'button', 'cause', '-', 'evaluate', 'incorrect', 'decision', '.', 'representative', 'book', 'research', 'machine', 'learning', '1960', 'Nilsson', 'book', 'Learning', 'Machines', ',', 'deal', 'machine', 'learn', 'pattern', 'classification', '.', 'interest', 'relate', 'pattern', 'recognition', 'continue', '1970', ',', 'describe', 'Duda', 'Hart', '1973', '.', '1981', 'report', 'use', 'teaching', 'strategy', 'artificial', 'neural', 'network', 'learn', 'recognize', '40', 'character', '(', '26', 'letter', ',', '10', 'digit', ',', '4', 'special', 'symbol', ')', 'computer', 'terminal', '.', 'Tom', 'M.', 'Mitchell', 'provide', 'widely', 'quote', ',', 'formal', 'definition', 'algorithm', 'study', 'machine', 'learn', 'field', ':', '\"', 'computer', 'program', 'learn', 'experience', 'e', 'respect', 'class', 'task', 'T', 'performance', 'measure', 'p', 'performance', 'task', 'T', ',', 'measure', 'P', ',', ' ', 'improve', 'experience', 'E.', '\"', 'definition', 'task', 'machine', 'learning', 'concern', 'offer', 'fundamentally', 'operational', 'definition', 'define', 'field', 'cognitive', 'term', '.', 'follow', 'Alan', 'Turing', 'proposal', 'paper', '\"', 'Computing', 'Machinery', 'Intelligence', '\"', ',', 'question', '\"', 'machine', 'think', '?', '\"', 'replace', 'question', '\"', 'machine', '(', 'think', 'entity', ')', '?', '\"', '.', 'modern', '-', 'day', 'machine', 'learning', 'objective', '.', ' ', 'classify', 'datum', 'base', 'model', 'develop', ';', 'purpose', 'prediction', 'future', 'outcome', 'base', 'model', '.', 'hypothetical', 'algorithm', 'specific', 'classify', 'datum', 'use', 'computer', 'vision', 'mole', 'couple', 'supervised', 'learning', 'order', 'train', 'classify', 'cancerous', 'mole', '.', 'machine', 'learn', 'algorithm', 'stock', 'trading', 'inform', 'trader', 'future', 'potential', 'prediction', '.', 'scientific', 'endeavor', ',', 'machine', 'learning', 'grow', 'quest', 'artificial', 'intelligence', '(', 'AI', ')', '.', 'early', 'day', 'AI', 'academic', 'discipline', ',', 'researcher', 'interested', 'machine', 'learn', 'datum', '.', 'attempt', 'approach', 'problem', 'symbolic', 'method', ',', 'term', '\"', 'neural', 'network', '\"', ';', 'perceptron', 'model', 'later', 'find', 'reinvention', 'generalized', 'linear', 'model', 'statistic', '.', 'probabilistic', 'reasoning', 'employ', ',', 'especially', 'automate', 'medical', 'diagnosis', '.', ',', 'increase', 'emphasis', 'logical', ',', 'knowledge', '-', 'base', 'approach', 'cause', 'rift', 'AI', 'machine', 'learning', '.', 'probabilistic', 'system', 'plague', 'theoretical', 'practical', 'problem', 'datum', 'acquisition', 'representation', '.', '1980', ',', 'expert', 'system', 'come', 'dominate', 'AI', ',', 'statistic', 'favor', '.', 'work', 'symbolic', '/', 'knowledge', '-', 'base', 'learning', 'continue', 'AI', ',', 'lead', 'inductive', 'logic', 'programming(ilp', ')', ',', 'statistical', 'line', 'research', 'outside', 'field', 'AI', 'proper', ',', 'pattern', 'recognition', 'information', 'retrieval', '.', 'neural', 'network', 'research', 'abandon', 'AI', 'computer', 'science', 'time', '.', 'line', ',', ',', 'continue', 'outside', 'AI', '/', 'CS', 'field', ',', '\"', 'connectionism', '\"', ',', 'researcher', 'discipline', 'include', 'Hopfield', ',', 'Rumelhart', ',', 'Hinton', '.', 'main', 'success', 'come', 'mid-1980', 'reinvention', 'backpropagation', '.', 'machine', 'learning', '(', 'ML', ')', ',', 'reorganize', 'recognize', 'field', ',', 'start', 'flourish', '1990', '.', 'field', 'change', 'goal', 'achieve', 'artificial', 'intelligence', 'tackle', 'solvable', 'problem', 'practical', 'nature', '.', 'shift', 'focus', 'away', 'symbolic', 'approach', 'inherit', 'AI', ',', 'method', 'model', 'borrow', 'statistic', ',', 'fuzzy', 'logic', ',', 'probability', 'theory', '.', 'close', 'connection', 'machine', 'learning', 'compression', '.', 'system', 'predict', 'posterior', 'probability', 'sequence', 'entire', 'history', 'use', 'optimal', 'datum', 'compression', '(', 'use', 'arithmetic', 'coding', 'output', 'distribution', ')', '.', 'conversely', ',', 'optimal', 'compressor', 'use', 'prediction', '(', 'find', 'symbol', 'compress', ',', 'previous', 'history', ')', '.', 'equivalence', 'use', 'justification', 'use', 'data', 'compression', 'benchmark', '\"', 'general', 'intelligence', '\"', '.', 'alternative', 'view', 'compression', 'algorithm', 'implicitly', 'map', 'string', 'implicit', 'feature', 'space', 'vector', ',', 'compression', '-', 'base', 'similarity', 'measure', 'compute', 'similarity', 'feature', 'space', '.', 'compressor', 'C', '(', '.', ')', 'define', 'associated', 'vector', 'space', 'ℵ', ',', 'C', '(', '.', ')', 'map', 'input', 'string', 'x', ',', 'correspond', 'vector', 'norm', '||~x||', '.', 'exhaustive', 'examination', 'feature', 'space', 'underlie', 'compression', 'algorithm', 'preclude', 'space', ';', 'instead', ',', 'feature', 'vector', 'choose', 'examine', 'representative', 'lossless', 'compression', 'method', ',', 'LZW', ',', 'LZ77', ',', 'PPM', '.', 'accord', 'AIXI', 'theory', ',', 'connection', 'directly', 'explain', 'Hutter', 'Prize', ',', 'possible', 'compression', 'x', 'small', 'possible', 'software', 'generate', 'x.', 'example', ',', 'model', ',', 'zip', 'file', 'compress', 'size', 'include', 'zip', 'file', 'unzipping', 'software', ',', 'unzip', ',', 'small', 'combined', 'form', '.', 'example', 'AI', '-', 'power', 'audio', '/', 'video', 'compression', 'software', 'include', 'VP9', ',', 'NVIDIA', 'Maxine', ',', 'AIVC', ',', 'AccMPEG', '.', 'example', 'software', 'perform', 'AI', '-', 'power', 'image', 'compression', 'include', 'OpenCV', ',', 'TensorFlow', ',', 'MATLAB', 'Image', 'Processing', 'Toolbox', '(', 'IPT', ')', 'High', '-', 'Fidelity', 'Generative', 'Image', 'Compression', '.', 'unsupervised', 'machine', 'learning', ',', 'k', '-', 'mean', 'clustering', 'utilize', 'compress', 'datum', 'group', 'similar', 'datum', 'point', 'cluster', '.', 'technique', 'simplifie', 'handle', 'extensive', 'dataset', 'lack', 'predefine', 'label', 'find', 'widespread', 'use', 'field', 'image', 'compression', '.', 'datum', 'compression', 'aim', 'reduce', 'size', 'datum', 'file', ',', 'enhance', 'storage', 'efficiency', 'speed', 'datum', 'transmission', '.', 'k', '-', 'mean', 'clustering', ',', 'unsupervised', 'machine', 'learning', 'algorithm', ',', 'employ', 'partition', 'dataset', 'specified', 'number', 'cluster', ',', 'k', ',', 'represent', 'centroid', 'point', '.', 'process', 'condense', 'extensive', 'dataset', 'compact', 'set', 'representative', 'point', '.', 'particularly', 'beneficial', 'image', 'signal', 'processing', ',', 'k', '-', 'mean', 'cluster', 'aid', 'datum', 'reduction', 'replace', 'group', 'datum', 'point', 'centroid', ',', 'preserve', 'core', 'information', 'original', 'datum', 'significantly', 'decrease', 'require', 'storage', 'space', '.', 'machine', 'learning', 'datum', 'mining', 'employ', 'method', 'overlap', 'significantly', ',', 'machine', 'learning', 'focus', 'prediction', ',', 'base', 'know', 'property', 'learn', 'training', 'datum', ',', 'datum', 'mining', 'focus', 'discovery', '(', 'previously', ')', 'unknown', 'property', 'datum', '(', 'analysis', 'step', 'knowledge', 'discovery', 'database', ')', '.', 'datum', 'mining', 'use', 'machine', 'learning', 'method', ',', 'different', 'goal', ';', 'hand', ',', 'machine', 'learning', 'employ', 'datum', 'mining', 'method', '\"', 'unsupervised', 'learning', '\"', 'preprocessing', 'step', 'improve', 'learner', 'accuracy', '.', 'confusion', 'research', 'community', '(', 'separate', 'conference', 'separate', 'journal', ',', 'ECML', 'PKDD', 'major', 'exception', ')', 'come', 'basic', 'assumption', 'work', ':', 'machine', 'learning', ',', 'performance', 'usually', 'evaluate', 'respect', 'ability', 'reproduce', 'known', 'knowledge', ',', 'knowledge', 'discovery', 'datum', 'mining', '(', 'KDD', ')', 'key', 'task', 'discovery', 'previously', 'unknown', 'knowledge', '.', 'evaluate', 'respect', 'know', 'knowledge', ',', 'uninformed', '(', 'unsupervised', ')', 'method', 'easily', 'outperform', 'supervised', 'method', ',', 'typical', 'KDD', 'task', ',', 'supervised', 'method', 'use', 'unavailability', 'training', 'datum', '.', 'machine', 'learning', 'intimate', 'tie', 'optimization', ':', 'learn', 'problem', 'formulate', 'minimization', 'loss', 'function', 'training', 'set', 'example', '.', 'loss', 'function', 'express', 'discrepancy', 'prediction', 'model', 'train', 'actual', 'problem', 'instance', '(', 'example', ',', 'classification', ',', 'want', 'assign', 'label', 'instance', ',', 'model', 'train', 'correctly', 'predict', 'pre', '-', 'assign', 'label', 'set', 'example', ')', '.', 'difference', 'optimization', 'machine', 'learning', 'arise', 'goal', 'generalization', ':', 'optimization', 'algorithm', 'minimize', 'loss', 'training', 'set', ',', 'machine', 'learning', 'concern', 'minimize', 'loss', 'unseen', 'sample', '.', 'characterize', 'generalization', 'learning', 'algorithm', 'active', 'topic', 'current', 'research', ',', 'especially', 'deep', 'learning', 'algorithm', '.', 'machine', 'learning', 'statistic', 'closely', 'relate', 'field', 'term', 'method', ',', 'distinct', 'principal', 'goal', ':', 'statistic', 'draw', 'population', 'inference', 'sample', ',', 'machine', 'learning', 'find', 'generalizable', 'predictive', 'pattern', '.', 'accord', 'Michael', 'I.', 'Jordan', ',', 'idea', 'machine', 'learning', ',', 'methodological', 'principle', 'theoretical', 'tool', ',', 'long', 'pre', '-', 'history', 'statistic', '.', 'suggest', 'term', 'datum', 'science', 'placeholder', 'overall', 'field', '.', 'conventional', 'statistical', 'analysis', 'require', 'priori', 'selection', 'model', 'suitable', 'study', 'datum', 'set', '.', 'addition', ',', 'significant', 'theoretically', 'relevant', 'variable', 'base', 'previous', 'experience', 'include', 'analysis', '.', 'contrast', ',', 'machine', 'learning', 'build', 'pre', '-', 'structured', 'model', ';', ',', 'datum', 'shape', 'model', 'detect', 'underlying', 'pattern', '.', 'variable', '(', 'input', ')', 'use', 'train', 'model', ',', 'accurate', 'ultimate', 'model', '.', 'Leo', 'Breiman', 'distinguish', 'statistical', 'modeling', 'paradigm', ':', 'datum', 'model', 'algorithmic', 'model', ',', '\"', 'algorithmic', 'model', '\"', 'mean', 'machine', 'learn', 'algorithm', 'like', 'Random', 'Forest', '.', 'statistician', 'adopt', 'method', 'machine', 'learning', ',', 'lead', 'combined', 'field', 'statistical', 'learning', '.', 'analytical', 'computational', 'technique', 'derive', 'deep', '-', 'root', 'physics', 'disorder', 'system', 'extend', 'large', '-', 'scale', 'problem', ',', 'include', 'machine', 'learning', ',', 'e.', 'g.', ',', 'analyze', 'weight', 'space', 'deep', 'neural', 'network', '.', 'statistical', 'physics', 'find', 'application', 'area', 'medical', 'diagnostic', '.', 'core', 'objective', 'learner', 'generalize', 'experience', '.', 'generalization', 'context', 'ability', 'learn', 'machine', 'perform', 'accurately', 'new', ',', 'unseen', 'example', '/', 'task', 'having', 'experience', 'learn', 'datum', 'set', '.', 'training', 'example', 'come', 'generally', 'unknown', 'probability', 'distribution', '(', 'consider', 'representative', 'space', 'occurrence', ')', 'learner', 'build', 'general', 'model', 'space', 'enable', 'produce', 'sufficiently', 'accurate', 'prediction', 'new', 'case', '.', 'computational', 'analysis', 'machine', 'learn', 'algorithm', 'performance', 'branch', 'theoretical', 'computer', 'science', 'know', 'computational', 'learning', 'theory', 'probably', 'approximately', 'Correct', 'Learning', '(', 'PAC', ')', 'model', '.', 'training', 'set', 'finite', 'future', 'uncertain', ',', 'learn', 'theory', 'usually', 'yield', 'guarantee', 'performance', 'algorithm', '.', 'instead', ',', 'probabilistic', 'bound', 'performance', 'common', '.', 'bias', '–', 'variance', 'decomposition', 'way', 'quantify', 'generalization', 'error', '.', 'good', 'performance', 'context', 'generalization', ',', 'complexity', 'hypothesis', 'match', 'complexity', 'function', 'underlie', 'datum', '.', 'hypothesis', 'complex', 'function', ',', 'model', 'fit', 'datum', '.', 'complexity', 'model', 'increase', 'response', ',', 'training', 'error', 'decrease', '.', 'hypothesis', 'complex', ',', 'model', 'subject', 'overfitting', 'generalization', 'poor', '.', 'addition', 'performance', 'bound', ',', 'learn', 'theorist', 'study', 'time', 'complexity', 'feasibility', 'learn', '.', 'computational', 'learning', 'theory', ',', 'computation', 'consider', 'feasible', 'polynomial', 'time', '.', 'kind', 'time', 'complexity', 'result', ':', 'positive', 'result', 'certain', 'class', 'function', 'learn', 'polynomial', 'time', '.', 'negative', 'result', 'certain', 'class', 'learn', 'polynomial', 'time', '.', 'class=\"anchor', '\"', 'id=\"algorithm_types\">although', 'algorithm', 'advantage', 'limitation', ',', 'single', 'algorithm', 'work', 'problem', '.', 'supervised', 'learn', 'algorithm', 'build', 'mathematical', 'model', 'set', 'datum', 'contain', 'input', 'desire', 'output', '.', 'datum', 'know', 'training', 'datum', ',', 'consist', 'set', 'training', 'example', '.', 'training', 'example', 'input', 'desire', 'output', ',', 'know', 'supervisory', 'signal', '.', ' ', 'mathematical', 'model', ',', 'training', 'example', 'represent', 'array', 'vector', ',', 'feature', 'vector', ',', 'training', 'datum', 'represent', 'matrix', '.', 'iterative', 'optimization', 'objective', 'function', ',', 'supervise', 'learn', 'algorithm', 'learn', 'function', 'use', 'predict', 'output', 'associate', 'new', 'input', '.', 'optimal', 'function', 'allow', 'algorithm', 'correctly', 'determine', 'output', 'input', 'training', 'datum', '.', 'algorithm', 'improve', 'accuracy', 'output', 'prediction', 'time', 'learn', 'perform', 'task', '.', 'type', 'supervised', '-', 'learn', 'algorithm', 'include', 'active', 'learning', ',', 'classification', 'regression', '.', 'classification', 'algorithm', 'use', 'output', 'restrict', 'limited', 'set', 'value', ',', 'regression', 'algorithm', 'use', 'output', 'numerical', 'value', 'range', '.', 'example', ',', 'classification', 'algorithm', 'filter', 'email', ',', 'input', 'incoming', 'email', ',', 'output', 'folder', 'file', 'email', '.', 'similarity', 'learning', 'area', 'supervised', 'machine', 'learn', 'closely', 'relate', 'regression', 'classification', ',', 'goal', 'learn', 'example', 'use', 'similarity', 'function', 'measure', 'similar', 'related', 'object', '.', 'application', 'ranking', ',', 'recommendation', 'system', ',', 'visual', 'identity', 'tracking', ',', 'face', 'verification', ',', 'speaker', 'verification', '.', 'unsupervised', 'learning', 'algorithm', 'find', 'structure', 'datum', 'label', ',', 'classify', 'categorize', '.', 'instead', 'respond', 'feedback', ',', 'unsupervised', 'learning', 'algorithm', 'identify', 'commonality', 'datum', 'react', 'base', 'presence', 'absence', 'commonality', 'new', 'piece', 'datum', '.', 'central', 'application', 'unsupervised', 'machine', 'learning', 'include', 'cluster', ',', 'dimensionality', 'reduction', ',', 'density', 'estimation', '.', 'unsupervised', 'learning', 'algorithm', 'streamline', 'process', 'identify', 'large', 'indel', 'base', 'haplotype', 'gene', 'interest', 'pan', '-', 'genome', '.', ' ', 'Cluster', 'analysis', 'assignment', 'set', 'observation', 'subset', '(', 'cluster', ')', 'observation', 'cluster', 'similar', 'accord', 'predesignate', 'criterion', ',', 'observation', 'draw', 'different', 'cluster', 'dissimilar', '.', 'different', 'clustering', 'technique', 'different', 'assumption', 'structure', 'datum', ',', 'define', 'similarity', 'metric', 'evaluate', ',', 'example', ',', 'internal', 'compactness', ',', 'similarity', 'member', 'cluster', ',', 'separation', ',', 'difference', 'cluster', '.', 'method', 'base', 'estimate', 'density', 'graph', 'connectivity', '.', 'semi', '-', 'supervised', 'learning', 'fall', 'unsupervised', 'learning', '(', 'label', 'training', 'datum', ')', 'supervise', 'learning', '(', 'completely', 'label', 'training', 'datum', ')', '.', 'training', 'example', 'miss', 'training', 'label', ',', 'machine', '-', 'learn', 'researcher', 'find', 'unlabeled', 'datum', ',', 'use', 'conjunction', 'small', 'label', 'datum', ',', 'produce', 'considerable', 'improvement', 'learn', 'accuracy', '.', 'weakly', 'supervised', 'learning', ',', 'training', 'label', 'noisy', ',', 'limited', ',', 'imprecise', ';', ',', 'label', 'cheap', 'obtain', ',', 'result', 'large', 'effective', 'training', 'set', '.', 'reinforcement', 'learning', 'area', 'machine', 'learning', 'concern', 'software', 'agent', 'ought', 'action', 'environment', 'maximize', 'notion', 'cumulative', 'reward', '.', 'generality', ',', 'field', 'study', 'discipline', ',', 'game', 'theory', ',', 'control', 'theory', ',', 'operation', 'research', ',', 'information', 'theory', ',', 'simulation', '-', 'base', 'optimization', ',', 'multi', '-', 'agent', 'system', ',', 'swarm', 'intelligence', ',', 'statistic', 'genetic', 'algorithm', '.', 'reinforcement', 'learning', ',', 'environment', 'typically', 'represent', 'Markov', 'decision', 'process', '(', 'MDP', ')', '.', 'reinforcement', 'learn', 'algorithm', 'use', 'dynamic', 'programming', 'technique', '.', 'reinforcement', 'learn', 'algorithm', 'assume', 'knowledge', 'exact', 'mathematical', 'model', 'MDP', 'use', 'exact', 'model', 'infeasible', '.', 'reinforcement', 'learning', 'algorithm', 'use', 'autonomous', 'vehicle', 'learn', 'play', 'game', 'human', 'opponent', '.']\n"
     ]
    }
   ],
   "source": [
    "normalized_tokens = [] \n",
    "for word in lemmas:\n",
    "    lexeme = nlp.vocab[word]\n",
    "    if not lexeme.is_stop:\n",
    "        normalized_tokens.append(word) \n",
    "print(normalized_tokens)                            # text without stop words"
   ]
  },
  {
   "cell_type": "code",
   "execution_count": 33,
   "metadata": {},
   "outputs": [
    {
     "name": "stdout",
     "output_type": "stream",
     "text": [
      "['machin', 'learn', '(', 'ml', ')', 'field', 'studi', 'artifici', 'intellig', 'concern', 'develop', 'studi', 'statist', 'algorithm', 'learn', 'datum', 'gener', 'unseen', 'datum', ',', 'perform', 'task', 'explicit', 'instruct', '.', 'recent', ',', 'artifici', 'neural', 'network', 'abl', 'surpass', 'previou', 'approach', 'perform', '.', 'machin', 'learn', 'approach', 'appli', 'field', 'includ', 'natur', 'languag', 'process', ',', 'comput', 'vision', ',', 'speech', 'recognit', ',', 'email', 'filter', ',', 'agricultur', ',', 'medicin', '.', 'ml', 'know', 'applic', 'busi', 'problem', 'predict', 'analyt', '.', 'machin', 'learn', 'statist', 'base', ',', 'comput', 'statist', 'import', 'sourc', 'field', 'method', '.', 'mathemat', 'foundat', 'ml', 'provid', 'mathemat', 'optim', '(', 'mathemat', 'program', ')', 'method', '.', 'datum', 'mine', 'relat', '(', 'parallel', ')', 'field', 'studi', ',', 'focu', 'exploratori', 'datum', 'analysi', '(', 'eda', ')', 'unsupervis', 'learn', '.', 'theoret', 'viewpoint', ',', 'probabl', 'approxim', 'correct', '(', 'pac', ')', 'learn', 'provid', 'framework', 'describ', 'machin', 'learn', '.', 'term', 'machin', 'learn', 'coin', '1959', 'arthur', 'samuel', ',', 'ibm', 'employe', 'pioneer', 'field', 'comput', 'game', 'artifici', 'intellig', '.', 'synonym', 'self', '-', 'teach', 'comput', 'use', 'time', 'period', '.', 'earli', 'machin', 'learn', 'model', 'introduc', '1950', 'arthur', 'samuel', 'invent', 'program', 'calcul', 'win', 'chanc', 'checker', ',', 'histori', 'machin', 'learn', 'root', 'decad', 'human', 'desir', 'effort', 'studi', 'human', 'cognit', 'process', '.', '1949', ',', 'canadian', 'psychologist', 'donald', 'hebb', 'publish', 'book', 'organ', 'behavior', ',', 'introduc', 'theoret', 'neural', 'structur', 'form', 'certain', 'interact', 'nerv', 'cell', '.', 'hebb', 'model', 'neuron', 'interact', 'set', 'groundwork', 'ai', 'machin', 'learn', 'algorithm', 'work', 'node', ',', 'artifici', 'neuron', 'use', 'comput', 'commun', 'datum', '.', 'research', 'studi', 'human', 'cognit', 'system', 'contribut', 'modern', 'machin', 'learn', 'technolog', ',', 'includ', 'logician', 'walter', 'pitt', 'warren', 'mcculloch', ',', 'propos', 'earli', 'mathemat', 'model', 'neural', 'network', 'come', 'algorithm', 'mirror', 'human', 'thought', 'process', '.', 'earli', '1960', 'experiment', '\"', 'learn', 'machin', '\"', 'punch', 'tape', 'memori', ',', 'cybertron', ',', 'develop', 'raytheon', 'compani', 'analyz', 'sonar', 'signal', ',', 'electrocardiogram', ',', 'speech', 'pattern', 'use', 'rudimentari', 'reinforc', 'learn', '.', 'repetit', '\"', 'train', '\"', 'human', 'oper', '/', 'teacher', 'recogn', 'pattern', 'equip', '\"', 'goof', '\"', 'button', 'caus', '-', 'evalu', 'incorrect', 'decis', '.', 'repres', 'book', 'research', 'machin', 'learn', '1960', 'nilsson', 'book', 'learn', 'machin', ',', 'deal', 'machin', 'learn', 'pattern', 'classif', '.', 'interest', 'relat', 'pattern', 'recognit', 'continu', '1970', ',', 'describ', 'duda', 'hart', '1973', '.', '1981', 'report', 'use', 'teach', 'strategi', 'artifici', 'neural', 'network', 'learn', 'recogn', '40', 'charact', '(', '26', 'letter', ',', '10', 'digit', ',', '4', 'special', 'symbol', ')', 'comput', 'termin', '.', 'tom', 'm.', 'mitchel', 'provid', 'wide', 'quot', ',', 'formal', 'definit', 'algorithm', 'studi', 'machin', 'learn', 'field', ':', '\"', 'comput', 'program', 'learn', 'experi', 'e', 'respect', 'class', 'task', 't', 'perform', 'measur', 'p', 'perform', 'task', 't', ',', 'measur', 'p', ',', ' ', 'improv', 'experi', 'e.', '\"', 'definit', 'task', 'machin', 'learn', 'concern', 'offer', 'fundament', 'oper', 'definit', 'defin', 'field', 'cognit', 'term', '.', 'follow', 'alan', 'ture', 'propos', 'paper', '\"', 'comput', 'machineri', 'intellig', '\"', ',', 'question', '\"', 'machin', 'think', '?', '\"', 'replac', 'question', '\"', 'machin', '(', 'think', 'entiti', ')', '?', '\"', '.', 'modern', '-', 'day', 'machin', 'learn', 'object', '.', ' ', 'classifi', 'datum', 'base', 'model', 'develop', ';', 'purpos', 'predict', 'futur', 'outcom', 'base', 'model', '.', 'hypothet', 'algorithm', 'specif', 'classifi', 'datum', 'use', 'comput', 'vision', 'mole', 'coupl', 'supervis', 'learn', 'order', 'train', 'classifi', 'cancer', 'mole', '.', 'machin', 'learn', 'algorithm', 'stock', 'trade', 'inform', 'trader', 'futur', 'potenti', 'predict', '.', 'scientif', 'endeavor', ',', 'machin', 'learn', 'grow', 'quest', 'artifici', 'intellig', '(', 'ai', ')', '.', 'earli', 'day', 'ai', 'academ', 'disciplin', ',', 'research', 'interest', 'machin', 'learn', 'datum', '.', 'attempt', 'approach', 'problem', 'symbol', 'method', ',', 'term', '\"', 'neural', 'network', '\"', ';', 'perceptron', 'model', 'later', 'find', 'reinvent', 'gener', 'linear', 'model', 'statist', '.', 'probabilist', 'reason', 'employ', ',', 'especi', 'autom', 'medic', 'diagnosi', '.', ',', 'increas', 'emphasi', 'logic', ',', 'knowledg', '-', 'base', 'approach', 'caus', 'rift', 'ai', 'machin', 'learn', '.', 'probabilist', 'system', 'plagu', 'theoret', 'practic', 'problem', 'datum', 'acquisit', 'represent', '.', '1980', ',', 'expert', 'system', 'come', 'domin', 'ai', ',', 'statist', 'favor', '.', 'work', 'symbol', '/', 'knowledg', '-', 'base', 'learn', 'continu', 'ai', ',', 'lead', 'induct', 'logic', 'programming(ilp', ')', ',', 'statist', 'line', 'research', 'outsid', 'field', 'ai', 'proper', ',', 'pattern', 'recognit', 'inform', 'retriev', '.', 'neural', 'network', 'research', 'abandon', 'ai', 'comput', 'scienc', 'time', '.', 'line', ',', ',', 'continu', 'outsid', 'ai', '/', 'cs', 'field', ',', '\"', 'connection', '\"', ',', 'research', 'disciplin', 'includ', 'hopfield', ',', 'rumelhart', ',', 'hinton', '.', 'main', 'success', 'come', 'mid-1980', 'reinvent', 'backpropag', '.', 'machin', 'learn', '(', 'ml', ')', ',', 'reorgan', 'recogn', 'field', ',', 'start', 'flourish', '1990', '.', 'field', 'chang', 'goal', 'achiev', 'artifici', 'intellig', 'tackl', 'solvabl', 'problem', 'practic', 'natur', '.', 'shift', 'focu', 'away', 'symbol', 'approach', 'inherit', 'ai', ',', 'method', 'model', 'borrow', 'statist', ',', 'fuzzi', 'logic', ',', 'probabl', 'theori', '.', 'close', 'connect', 'machin', 'learn', 'compress', '.', 'system', 'predict', 'posterior', 'probabl', 'sequenc', 'entir', 'histori', 'use', 'optim', 'datum', 'compress', '(', 'use', 'arithmet', 'code', 'output', 'distribut', ')', '.', 'convers', ',', 'optim', 'compressor', 'use', 'predict', '(', 'find', 'symbol', 'compress', ',', 'previou', 'histori', ')', '.', 'equival', 'use', 'justif', 'use', 'data', 'compress', 'benchmark', '\"', 'gener', 'intellig', '\"', '.', 'altern', 'view', 'compress', 'algorithm', 'implicitli', 'map', 'string', 'implicit', 'featur', 'space', 'vector', ',', 'compress', '-', 'base', 'similar', 'measur', 'comput', 'similar', 'featur', 'space', '.', 'compressor', 'c', '(', '.', ')', 'defin', 'associ', 'vector', 'space', 'ℵ', ',', 'c', '(', '.', ')', 'map', 'input', 'string', 'x', ',', 'correspond', 'vector', 'norm', '||~x||', '.', 'exhaust', 'examin', 'featur', 'space', 'underli', 'compress', 'algorithm', 'preclud', 'space', ';', 'instead', ',', 'featur', 'vector', 'choos', 'examin', 'repres', 'lossless', 'compress', 'method', ',', 'lzw', ',', 'lz77', ',', 'ppm', '.', 'accord', 'aixi', 'theori', ',', 'connect', 'directli', 'explain', 'hutter', 'prize', ',', 'possibl', 'compress', 'x', 'small', 'possibl', 'softwar', 'gener', 'x.', 'exampl', ',', 'model', ',', 'zip', 'file', 'compress', 'size', 'includ', 'zip', 'file', 'unzip', 'softwar', ',', 'unzip', ',', 'small', 'combin', 'form', '.', 'exampl', 'ai', '-', 'power', 'audio', '/', 'video', 'compress', 'softwar', 'includ', 'vp9', ',', 'nvidia', 'maxin', ',', 'aivc', ',', 'accmpeg', '.', 'exampl', 'softwar', 'perform', 'ai', '-', 'power', 'imag', 'compress', 'includ', 'opencv', ',', 'tensorflow', ',', 'matlab', 'imag', 'process', 'toolbox', '(', 'ipt', ')', 'high', '-', 'fidel', 'gener', 'imag', 'compress', '.', 'unsupervis', 'machin', 'learn', ',', 'k', '-', 'mean', 'cluster', 'util', 'compress', 'datum', 'group', 'similar', 'datum', 'point', 'cluster', '.', 'techniqu', 'simplifi', 'handl', 'extens', 'dataset', 'lack', 'predefin', 'label', 'find', 'widespread', 'use', 'field', 'imag', 'compress', '.', 'datum', 'compress', 'aim', 'reduc', 'size', 'datum', 'file', ',', 'enhanc', 'storag', 'effici', 'speed', 'datum', 'transmiss', '.', 'k', '-', 'mean', 'cluster', ',', 'unsupervis', 'machin', 'learn', 'algorithm', ',', 'employ', 'partit', 'dataset', 'specifi', 'number', 'cluster', ',', 'k', ',', 'repres', 'centroid', 'point', '.', 'process', 'condens', 'extens', 'dataset', 'compact', 'set', 'repres', 'point', '.', 'particularli', 'benefici', 'imag', 'signal', 'process', ',', 'k', '-', 'mean', 'cluster', 'aid', 'datum', 'reduct', 'replac', 'group', 'datum', 'point', 'centroid', ',', 'preserv', 'core', 'inform', 'origin', 'datum', 'significantli', 'decreas', 'requir', 'storag', 'space', '.', 'machin', 'learn', 'datum', 'mine', 'employ', 'method', 'overlap', 'significantli', ',', 'machin', 'learn', 'focu', 'predict', ',', 'base', 'know', 'properti', 'learn', 'train', 'datum', ',', 'datum', 'mine', 'focu', 'discoveri', '(', 'previous', ')', 'unknown', 'properti', 'datum', '(', 'analysi', 'step', 'knowledg', 'discoveri', 'databas', ')', '.', 'datum', 'mine', 'use', 'machin', 'learn', 'method', ',', 'differ', 'goal', ';', 'hand', ',', 'machin', 'learn', 'employ', 'datum', 'mine', 'method', '\"', 'unsupervis', 'learn', '\"', 'preprocess', 'step', 'improv', 'learner', 'accuraci', '.', 'confus', 'research', 'commun', '(', 'separ', 'confer', 'separ', 'journal', ',', 'ecml', 'pkdd', 'major', 'except', ')', 'come', 'basic', 'assumpt', 'work', ':', 'machin', 'learn', ',', 'perform', 'usual', 'evalu', 'respect', 'abil', 'reproduc', 'known', 'knowledg', ',', 'knowledg', 'discoveri', 'datum', 'mine', '(', 'kdd', ')', 'key', 'task', 'discoveri', 'previous', 'unknown', 'knowledg', '.', 'evalu', 'respect', 'know', 'knowledg', ',', 'uninform', '(', 'unsupervis', ')', 'method', 'easili', 'outperform', 'supervis', 'method', ',', 'typic', 'kdd', 'task', ',', 'supervis', 'method', 'use', 'unavail', 'train', 'datum', '.', 'machin', 'learn', 'intim', 'tie', 'optim', ':', 'learn', 'problem', 'formul', 'minim', 'loss', 'function', 'train', 'set', 'exampl', '.', 'loss', 'function', 'express', 'discrep', 'predict', 'model', 'train', 'actual', 'problem', 'instanc', '(', 'exampl', ',', 'classif', ',', 'want', 'assign', 'label', 'instanc', ',', 'model', 'train', 'correctli', 'predict', 'pre', '-', 'assign', 'label', 'set', 'exampl', ')', '.', 'differ', 'optim', 'machin', 'learn', 'aris', 'goal', 'gener', ':', 'optim', 'algorithm', 'minim', 'loss', 'train', 'set', ',', 'machin', 'learn', 'concern', 'minim', 'loss', 'unseen', 'sampl', '.', 'character', 'gener', 'learn', 'algorithm', 'activ', 'topic', 'current', 'research', ',', 'especi', 'deep', 'learn', 'algorithm', '.', 'machin', 'learn', 'statist', 'close', 'relat', 'field', 'term', 'method', ',', 'distinct', 'princip', 'goal', ':', 'statist', 'draw', 'popul', 'infer', 'sampl', ',', 'machin', 'learn', 'find', 'generaliz', 'predict', 'pattern', '.', 'accord', 'michael', 'i.', 'jordan', ',', 'idea', 'machin', 'learn', ',', 'methodolog', 'principl', 'theoret', 'tool', ',', 'long', 'pre', '-', 'histori', 'statist', '.', 'suggest', 'term', 'datum', 'scienc', 'placehold', 'overal', 'field', '.', 'convent', 'statist', 'analysi', 'requir', 'priori', 'select', 'model', 'suitabl', 'studi', 'datum', 'set', '.', 'addit', ',', 'signific', 'theoret', 'relev', 'variabl', 'base', 'previou', 'experi', 'includ', 'analysi', '.', 'contrast', ',', 'machin', 'learn', 'build', 'pre', '-', 'structur', 'model', ';', ',', 'datum', 'shape', 'model', 'detect', 'underli', 'pattern', '.', 'variabl', '(', 'input', ')', 'use', 'train', 'model', ',', 'accur', 'ultim', 'model', '.', 'leo', 'breiman', 'distinguish', 'statist', 'model', 'paradigm', ':', 'datum', 'model', 'algorithm', 'model', ',', '\"', 'algorithm', 'model', '\"', 'mean', 'machin', 'learn', 'algorithm', 'like', 'random', 'forest', '.', 'statistician', 'adopt', 'method', 'machin', 'learn', ',', 'lead', 'combin', 'field', 'statist', 'learn', '.', 'analyt', 'comput', 'techniqu', 'deriv', 'deep', '-', 'root', 'physic', 'disord', 'system', 'extend', 'larg', '-', 'scale', 'problem', ',', 'includ', 'machin', 'learn', ',', 'e.', 'g.', ',', 'analyz', 'weight', 'space', 'deep', 'neural', 'network', '.', 'statist', 'physic', 'find', 'applic', 'area', 'medic', 'diagnost', '.', 'core', 'object', 'learner', 'gener', 'experi', '.', 'gener', 'context', 'abil', 'learn', 'machin', 'perform', 'accur', 'new', ',', 'unseen', 'exampl', '/', 'task', 'have', 'experi', 'learn', 'datum', 'set', '.', 'train', 'exampl', 'come', 'gener', 'unknown', 'probabl', 'distribut', '(', 'consid', 'repres', 'space', 'occurr', ')', 'learner', 'build', 'gener', 'model', 'space', 'enabl', 'produc', 'suffici', 'accur', 'predict', 'new', 'case', '.', 'comput', 'analysi', 'machin', 'learn', 'algorithm', 'perform', 'branch', 'theoret', 'comput', 'scienc', 'know', 'comput', 'learn', 'theori', 'probabl', 'approxim', 'correct', 'learn', '(', 'pac', ')', 'model', '.', 'train', 'set', 'finit', 'futur', 'uncertain', ',', 'learn', 'theori', 'usual', 'yield', 'guarante', 'perform', 'algorithm', '.', 'instead', ',', 'probabilist', 'bound', 'perform', 'common', '.', 'bia', '–', 'varianc', 'decomposit', 'way', 'quantifi', 'gener', 'error', '.', 'good', 'perform', 'context', 'gener', ',', 'complex', 'hypothesi', 'match', 'complex', 'function', 'underli', 'datum', '.', 'hypothesi', 'complex', 'function', ',', 'model', 'fit', 'datum', '.', 'complex', 'model', 'increas', 'respons', ',', 'train', 'error', 'decreas', '.', 'hypothesi', 'complex', ',', 'model', 'subject', 'overfit', 'gener', 'poor', '.', 'addit', 'perform', 'bound', ',', 'learn', 'theorist', 'studi', 'time', 'complex', 'feasibl', 'learn', '.', 'comput', 'learn', 'theori', ',', 'comput', 'consid', 'feasibl', 'polynomi', 'time', '.', 'kind', 'time', 'complex', 'result', ':', 'posit', 'result', 'certain', 'class', 'function', 'learn', 'polynomi', 'time', '.', 'neg', 'result', 'certain', 'class', 'learn', 'polynomi', 'time', '.', 'class=\"anchor', '\"', 'id=\"algorithm_types\">although', 'algorithm', 'advantag', 'limit', ',', 'singl', 'algorithm', 'work', 'problem', '.', 'supervis', 'learn', 'algorithm', 'build', 'mathemat', 'model', 'set', 'datum', 'contain', 'input', 'desir', 'output', '.', 'datum', 'know', 'train', 'datum', ',', 'consist', 'set', 'train', 'exampl', '.', 'train', 'exampl', 'input', 'desir', 'output', ',', 'know', 'supervisori', 'signal', '.', ' ', 'mathemat', 'model', ',', 'train', 'exampl', 'repres', 'array', 'vector', ',', 'featur', 'vector', ',', 'train', 'datum', 'repres', 'matrix', '.', 'iter', 'optim', 'object', 'function', ',', 'supervis', 'learn', 'algorithm', 'learn', 'function', 'use', 'predict', 'output', 'associ', 'new', 'input', '.', 'optim', 'function', 'allow', 'algorithm', 'correctli', 'determin', 'output', 'input', 'train', 'datum', '.', 'algorithm', 'improv', 'accuraci', 'output', 'predict', 'time', 'learn', 'perform', 'task', '.', 'type', 'supervis', '-', 'learn', 'algorithm', 'includ', 'activ', 'learn', ',', 'classif', 'regress', '.', 'classif', 'algorithm', 'use', 'output', 'restrict', 'limit', 'set', 'valu', ',', 'regress', 'algorithm', 'use', 'output', 'numer', 'valu', 'rang', '.', 'exampl', ',', 'classif', 'algorithm', 'filter', 'email', ',', 'input', 'incom', 'email', ',', 'output', 'folder', 'file', 'email', '.', 'similar', 'learn', 'area', 'supervis', 'machin', 'learn', 'close', 'relat', 'regress', 'classif', ',', 'goal', 'learn', 'exampl', 'use', 'similar', 'function', 'measur', 'similar', 'relat', 'object', '.', 'applic', 'rank', ',', 'recommend', 'system', ',', 'visual', 'ident', 'track', ',', 'face', 'verif', ',', 'speaker', 'verif', '.', 'unsupervis', 'learn', 'algorithm', 'find', 'structur', 'datum', 'label', ',', 'classifi', 'categor', '.', 'instead', 'respond', 'feedback', ',', 'unsupervis', 'learn', 'algorithm', 'identifi', 'common', 'datum', 'react', 'base', 'presenc', 'absenc', 'common', 'new', 'piec', 'datum', '.', 'central', 'applic', 'unsupervis', 'machin', 'learn', 'includ', 'cluster', ',', 'dimension', 'reduct', ',', 'densiti', 'estim', '.', 'unsupervis', 'learn', 'algorithm', 'streamlin', 'process', 'identifi', 'larg', 'indel', 'base', 'haplotyp', 'gene', 'interest', 'pan', '-', 'genom', '.', ' ', 'cluster', 'analysi', 'assign', 'set', 'observ', 'subset', '(', 'cluster', ')', 'observ', 'cluster', 'similar', 'accord', 'predesign', 'criterion', ',', 'observ', 'draw', 'differ', 'cluster', 'dissimilar', '.', 'differ', 'cluster', 'techniqu', 'differ', 'assumpt', 'structur', 'datum', ',', 'defin', 'similar', 'metric', 'evalu', ',', 'exampl', ',', 'intern', 'compact', ',', 'similar', 'member', 'cluster', ',', 'separ', ',', 'differ', 'cluster', '.', 'method', 'base', 'estim', 'densiti', 'graph', 'connect', '.', 'semi', '-', 'supervis', 'learn', 'fall', 'unsupervis', 'learn', '(', 'label', 'train', 'datum', ')', 'supervis', 'learn', '(', 'complet', 'label', 'train', 'datum', ')', '.', 'train', 'exampl', 'miss', 'train', 'label', ',', 'machin', '-', 'learn', 'research', 'find', 'unlabel', 'datum', ',', 'use', 'conjunct', 'small', 'label', 'datum', ',', 'produc', 'consider', 'improv', 'learn', 'accuraci', '.', 'weakli', 'supervis', 'learn', ',', 'train', 'label', 'noisi', ',', 'limit', ',', 'imprecis', ';', ',', 'label', 'cheap', 'obtain', ',', 'result', 'larg', 'effect', 'train', 'set', '.', 'reinforc', 'learn', 'area', 'machin', 'learn', 'concern', 'softwar', 'agent', 'ought', 'action', 'environ', 'maxim', 'notion', 'cumul', 'reward', '.', 'gener', ',', 'field', 'studi', 'disciplin', ',', 'game', 'theori', ',', 'control', 'theori', ',', 'oper', 'research', ',', 'inform', 'theori', ',', 'simul', '-', 'base', 'optim', ',', 'multi', '-', 'agent', 'system', ',', 'swarm', 'intellig', ',', 'statist', 'genet', 'algorithm', '.', 'reinforc', 'learn', ',', 'environ', 'typic', 'repres', 'markov', 'decis', 'process', '(', 'mdp', ')', '.', 'reinforc', 'learn', 'algorithm', 'use', 'dynam', 'program', 'techniqu', '.', 'reinforc', 'learn', 'algorithm', 'assum', 'knowledg', 'exact', 'mathemat', 'model', 'mdp', 'use', 'exact', 'model', 'infeas', '.', 'reinforc', 'learn', 'algorithm', 'use', 'autonom', 'vehicl', 'learn', 'play', 'game', 'human', 'oppon', '.']\n"
     ]
    }
   ],
   "source": [
    "stemmer = PorterStemmer()\n",
    "stems = []\n",
    "for token in normalized_tokens: \n",
    "    stems.append(stemmer.stem(token))\n",
    "print(stems)                                        # text after stemming"
   ]
  }
 ],
 "metadata": {
  "kernelspec": {
   "display_name": "course",
   "language": "python",
   "name": "python3"
  },
  "language_info": {
   "codemirror_mode": {
    "name": "ipython",
    "version": 3
   },
   "file_extension": ".py",
   "mimetype": "text/x-python",
   "name": "python",
   "nbconvert_exporter": "python",
   "pygments_lexer": "ipython3",
   "version": "3.9.0"
  }
 },
 "nbformat": 4,
 "nbformat_minor": 2
}
